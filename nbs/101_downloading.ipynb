{
 "cells": [
  {
   "cell_type": "markdown",
   "metadata": {},
   "source": [
    "# Downloading Data From EUMETSAT\n",
    "\n",
    "<br>\n",
    "\n",
    "### Imports"
   ]
  },
  {
   "cell_type": "code",
   "execution_count": null,
   "metadata": {},
   "outputs": [
    {
     "name": "stderr",
     "output_type": "stream",
     "text": [
      "C:\\Users\\Ayrto\\anaconda3\\envs\\satip_dev\\lib\\site-packages\\google\\auth\\_default.py:69: UserWarning: Your application has authenticated using end user credentials from Google Cloud SDK without a quota project. You might receive a \"quota exceeded\" or \"API not enabled\" error. We recommend you rerun `gcloud auth application-default login` and make sure a quota project is added. Or you can use service accounts instead. For more information about service accounts, see https://cloud.google.com/docs/authentication/\n",
      "  warnings.warn(_CLOUD_SDK_CREDENTIALS_WARNING)\n",
      "Downloading: 100%|█████████████████████████████████████████████████████████████████████| 1/1 [00:00<00:00,  1.40rows/s]\n"
     ]
    }
   ],
   "source": [
    "from satip import eumetsat\n",
    "\n",
    "import matplotlib.pyplot as plt\n",
    "import cartopy.crs as ccrs\n",
    "\n",
    "import os\n",
    "import dotenv"
   ]
  },
  {
   "cell_type": "markdown",
   "metadata": {},
   "source": [
    "<br>\n",
    "\n",
    "### User Inputs\n",
    "\n",
    "We have to specify the directory where the data native filepaths are located"
   ]
  },
  {
   "cell_type": "code",
   "execution_count": null,
   "metadata": {},
   "outputs": [],
   "source": [
    "data_dir = '../data/raw'\n",
    "debug_fp = '../logs/EUMETSAT_download.txt'\n",
    "env_vars_fp = '../.env'\n",
    "metadata_db_fp = '../data/EUMETSAT_metadata.db'"
   ]
  },
  {
   "cell_type": "markdown",
   "metadata": {},
   "source": [
    "<br>\n",
    "\n",
    "### Using the Download Manager\n",
    "\n",
    "First we'll load the the environment variables"
   ]
  },
  {
   "cell_type": "code",
   "execution_count": null,
   "metadata": {},
   "outputs": [],
   "source": [
    "dotenv.load_dotenv(env_vars_fp)\n",
    "\n",
    "user_key = os.environ.get('USER_KEY')\n",
    "user_secret = os.environ.get('USER_SECRET')\n",
    "slack_id = os.environ.get('SLACK_ID')\n",
    "slack_webhook_url = os.environ.get('SLACK_WEBHOOK_URL')"
   ]
  },
  {
   "cell_type": "markdown",
   "metadata": {},
   "source": [
    "<br>\n",
    "\n",
    "Then we'll use the download manager to retrieve a single dataset"
   ]
  },
  {
   "cell_type": "code",
   "execution_count": null,
   "metadata": {},
   "outputs": [
    {
     "name": "stderr",
     "output_type": "stream",
     "text": [
      "2020-12-17 00:21:11,192 - INFO - ********** Download Manager Initialised **************\n",
      "2020-12-17 00:21:11,777 - INFO - 1 files queried, 0 found in ../data/raw, 1 to download.\n"
     ]
    },
    {
     "data": {
      "text/html": [
       "<div><span class=\"Text-label\" style=\"display:inline-block; overflow:hidden; white-space:nowrap; text-overflow:ellipsis; min-width:0; max-width:15ex; vertical-align:middle; text-align:right\"></span>\n",
       "<progress style=\"width:60ex\" max=\"1\" value=\"1\" class=\"Progress-main\"/></progress>\n",
       "<span class=\"Progress-label\"><strong>100%</strong></span>\n",
       "<span class=\"Iteration-label\">1/1</span>\n",
       "<span class=\"Time-label\">[00:07<00:07, 6.59s/it]</span></div>"
      ],
      "text/plain": [
       "\u001b[A\u001b[2K\r",
       " [████████████████████████████████████████████████████████████] 1/1 [00:07<00:07, 6.59s/it]"
      ]
     },
     "metadata": {},
     "output_type": "display_data"
    },
    {
     "data": {
      "text/html": [
       "<div>\n",
       "<style scoped>\n",
       "    .dataframe tbody tr th:only-of-type {\n",
       "        vertical-align: middle;\n",
       "    }\n",
       "\n",
       "    .dataframe tbody tr th {\n",
       "        vertical-align: top;\n",
       "    }\n",
       "\n",
       "    .dataframe thead th {\n",
       "        text-align: right;\n",
       "    }\n",
       "</style>\n",
       "<table border=\"1\" class=\"dataframe\">\n",
       "  <thead>\n",
       "    <tr style=\"text-align: right;\">\n",
       "      <th></th>\n",
       "      <th>start_date</th>\n",
       "      <th>end_date</th>\n",
       "      <th>result_time</th>\n",
       "      <th>platform_short_name</th>\n",
       "      <th>platform_orbit_type</th>\n",
       "      <th>instrument_name</th>\n",
       "      <th>sensor_op_mode</th>\n",
       "      <th>center_srs_name</th>\n",
       "      <th>center_position</th>\n",
       "      <th>file_name</th>\n",
       "      <th>file_size</th>\n",
       "      <th>missing_pct</th>\n",
       "      <th>downloaded</th>\n",
       "    </tr>\n",
       "  </thead>\n",
       "  <tbody>\n",
       "    <tr>\n",
       "      <th>0</th>\n",
       "      <td>2020-01-01 00:00:07.683000+00:00</td>\n",
       "      <td>2020-01-01 00:04:14.102000+00:00</td>\n",
       "      <td>2020-01-01 00:04:14.102000+00:00</td>\n",
       "      <td>MSG3</td>\n",
       "      <td>GEO</td>\n",
       "      <td>SEVIRI</td>\n",
       "      <td>RSS</td>\n",
       "      <td>EPSG:4326</td>\n",
       "      <td>0 9.5</td>\n",
       "      <td>MSG3-SEVI-MSG15-0100-NA-20200101000414.1020000...</td>\n",
       "      <td>99819</td>\n",
       "      <td>0.0</td>\n",
       "      <td>2020-12-17 00:21:18.312026</td>\n",
       "    </tr>\n",
       "  </tbody>\n",
       "</table>\n",
       "</div>"
      ],
      "text/plain": [
       "                        start_date                         end_date  \\\n",
       "0 2020-01-01 00:00:07.683000+00:00 2020-01-01 00:04:14.102000+00:00   \n",
       "\n",
       "                       result_time platform_short_name platform_orbit_type  \\\n",
       "0 2020-01-01 00:04:14.102000+00:00                MSG3                 GEO   \n",
       "\n",
       "  instrument_name sensor_op_mode center_srs_name center_position  \\\n",
       "0          SEVIRI            RSS       EPSG:4326           0 9.5   \n",
       "\n",
       "                                           file_name  file_size  missing_pct  \\\n",
       "0  MSG3-SEVI-MSG15-0100-NA-20200101000414.1020000...      99819          0.0   \n",
       "\n",
       "                  downloaded  \n",
       "0 2020-12-17 00:21:18.312026  "
      ]
     },
     "execution_count": null,
     "metadata": {},
     "output_type": "execute_result"
    }
   ],
   "source": [
    "dm = eumetsat.DownloadManager(user_key, user_secret, data_dir, metadata_db_fp, debug_fp, \n",
    "                              slack_webhook_url=slack_webhook_url, slack_id=slack_id)\n",
    "\n",
    "start_date = '2020-01-01 00:00'\n",
    "end_date = '2020-01-01 00:05'\n",
    "\n",
    "dm.download_date_range(start_date, end_date)"
   ]
  },
  {
   "cell_type": "markdown",
   "metadata": {},
   "source": [
    "<br>\n",
    "\n",
    "Once the files have been downloaded they will be automatically detected and skipped if downloading is attempted again"
   ]
  },
  {
   "cell_type": "code",
   "execution_count": null,
   "metadata": {},
   "outputs": [
    {
     "name": "stderr",
     "output_type": "stream",
     "text": [
      "2020-12-17 00:21:31,507 - INFO - 1 files queried, 1 found in ../data/raw, 0 to download.\n",
      "2020-12-17 00:21:31,512 - INFO - No files will be downloaded. Set DownloadManager bucket_name argument for local download\n"
     ]
    }
   ],
   "source": [
    "_ = dm.download_date_range(start_date, end_date)"
   ]
  },
  {
   "cell_type": "markdown",
   "metadata": {},
   "source": [
    "<br>\n",
    "\n",
    "We can retrieve the metadata for all historical downloads by calling the `get_df_metadata` method"
   ]
  },
  {
   "cell_type": "code",
   "execution_count": null,
   "metadata": {},
   "outputs": [],
   "source": [
    "df_metadata = dm.get_df_metadata()\n",
    "\n",
    "df_metadata.head()"
   ]
  }
 ],
 "metadata": {
  "kernelspec": {
   "display_name": "satip_dev",
   "language": "python",
   "name": "satip_dev"
  }
 },
 "nbformat": 4,
 "nbformat_minor": 4
}
