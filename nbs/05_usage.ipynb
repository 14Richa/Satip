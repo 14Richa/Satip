{
 "cells": [
  {
   "cell_type": "code",
   "execution_count": 9,
   "metadata": {},
   "outputs": [
    {
     "ename": "ImportError",
     "evalue": "cannot import name 'compress_downloaded_files' from 'satip.eumetsat' (/Users/laurence/projects/Satip/satip/eumetsat.py)",
     "output_type": "error",
     "traceback": [
      "\u001b[0;31m---------------------------------------------------------------------------\u001b[0m",
      "\u001b[0;31mImportError\u001b[0m                               Traceback (most recent call last)",
      "\u001b[0;32m<ipython-input-9-67c7e5767de7>\u001b[0m in \u001b[0;36m<module>\u001b[0;34m\u001b[0m\n\u001b[1;32m     21\u001b[0m \u001b[0;32mfrom\u001b[0m \u001b[0msatip\u001b[0m \u001b[0;32mimport\u001b[0m \u001b[0mutils\u001b[0m\u001b[0;34m\u001b[0m\u001b[0;34m\u001b[0m\u001b[0m\n\u001b[1;32m     22\u001b[0m \u001b[0;32mfrom\u001b[0m \u001b[0msatip\u001b[0m\u001b[0;34m.\u001b[0m\u001b[0mgcp_helpers\u001b[0m \u001b[0;32mimport\u001b[0m \u001b[0mget_eumetsat_filenames\u001b[0m\u001b[0;34m\u001b[0m\u001b[0;34m\u001b[0m\u001b[0m\n\u001b[0;32m---> 23\u001b[0;31m \u001b[0;32mfrom\u001b[0m \u001b[0msatip\u001b[0m\u001b[0;34m.\u001b[0m\u001b[0meumetsat\u001b[0m \u001b[0;32mimport\u001b[0m \u001b[0mDownloadManager\u001b[0m\u001b[0;34m,\u001b[0m \u001b[0mcompress_downloaded_files\u001b[0m\u001b[0;34m\u001b[0m\u001b[0;34m\u001b[0m\u001b[0m\n\u001b[0m\u001b[1;32m     24\u001b[0m \u001b[0;34m\u001b[0m\u001b[0m\n\u001b[1;32m     25\u001b[0m \u001b[0;32mfrom\u001b[0m \u001b[0mipypb\u001b[0m \u001b[0;32mimport\u001b[0m \u001b[0mtrack\u001b[0m\u001b[0;34m\u001b[0m\u001b[0;34m\u001b[0m\u001b[0m\n",
      "\u001b[0;31mImportError\u001b[0m: cannot import name 'compress_downloaded_files' from 'satip.eumetsat' (/Users/laurence/projects/Satip/satip/eumetsat.py)"
     ]
    }
   ],
   "source": [
    "import numpy as np\n",
    "import pandas as pd\n",
    "import dataset\n",
    "\n",
    "import FEAutils as hlp\n",
    "from typing import Union\n",
    "import xmltodict\n",
    "import dotenv\n",
    "import datetime\n",
    "import zipfile\n",
    "import copy\n",
    "import os\n",
    "import io\n",
    "\n",
    "from requests.auth import HTTPBasicAuth\n",
    "import requests\n",
    "\n",
    "from satip import utils\n",
    "from satip.gcp_helpers import get_eumetsat_filenames\n",
    "from satip.eumetsat import DownloadManager, compress_downloaded_files\n",
    "\n",
    "from ipypb import track\n",
    "from IPython.display import JSON"
   ]
  },
  {
   "cell_type": "code",
   "execution_count": 8,
   "metadata": {},
   "outputs": [],
   "source": [
    "data_dir = '../data/raw'\n",
    "sorted_dir = '../data/sorted'\n",
    "debug_fp = '../logs/EUMETSAT_download.txt'\n",
    "env_vars_fp = '../.env'\n",
    "metadata_db_fp = '../data/EUMETSAT_metadata.db'\n",
    "\n",
    "download_data = True\n",
    "\n",
    "for path in [data_dir, sorted_dir]:\n",
    "    if not os.path.exists(path):\n",
    "        os.makedirs(path)"
   ]
  },
  {
   "cell_type": "code",
   "execution_count": 3,
   "metadata": {},
   "outputs": [],
   "source": [
    "dotenv.load_dotenv(env_vars_fp)\n",
    "\n",
    "user_key = os.environ.get('USER_KEY')\n",
    "user_secret = os.environ.get('USER_SECRET')"
   ]
  },
  {
   "cell_type": "code",
   "execution_count": 4,
   "metadata": {},
   "outputs": [],
   "source": [
    "BUCKET_NAME = \"solar-pv-nowcasting-data\"\n",
    "PREFIX = \"satellite/EUMETSAT/SEVIRI_RSS/native/2019/01/01\""
   ]
  },
  {
   "cell_type": "code",
   "execution_count": 5,
   "metadata": {},
   "outputs": [
    {
     "name": "stderr",
     "output_type": "stream",
     "text": [
      "2020-11-27 07:58:30,610 - INFO - ********** Download Manager Initialised **************\n"
     ]
    },
    {
     "name": "stdout",
     "output_type": "stream",
     "text": [
      "Checking files in GCP bucket solar-pv-nowcasting-data, this will take a few seconds\n"
     ]
    }
   ],
   "source": [
    "dm = DownloadManager(user_key, user_secret, data_dir, metadata_db_fp, debug_fp, bucket_name=BUCKET_NAME, bucket_prefix=PREFIX)"
   ]
  },
  {
   "cell_type": "code",
   "execution_count": 6,
   "metadata": {},
   "outputs": [],
   "source": [
    "# start_date = '2020-10-01 12:00'\n",
    "# end_date = '2020-10-01 12:05'\n",
    "\n",
    "start_date = '2019-01-01 00:00'\n",
    "end_date = '2019-01-01 00:30'"
   ]
  },
  {
   "cell_type": "code",
   "execution_count": 7,
   "metadata": {},
   "outputs": [
    {
     "name": "stderr",
     "output_type": "stream",
     "text": [
      "2020-11-27 07:58:46,981 - INFO - 6 files queried, 6 found in bucket, 0 found in ../data/raw, 0 to download.\n",
      "2020-11-27 07:58:46,982 - INFO - No files will be downloaded. Set DownloadManager bucket_name argument for local download\n"
     ]
    }
   ],
   "source": [
    "dm.download_datasets(start_date, end_date)"
   ]
  },
  {
   "cell_type": "markdown",
   "metadata": {},
   "source": [
    "## Compress and send to GCP bucket"
   ]
  },
  {
   "cell_type": "code",
   "execution_count": null,
   "metadata": {},
   "outputs": [],
   "source": [
    "compress_downloaded_files()"
   ]
  }
 ],
 "metadata": {
  "kernelspec": {
   "display_name": "Python 3",
   "language": "python",
   "name": "python3"
  },
  "language_info": {
   "codemirror_mode": {
    "name": "ipython",
    "version": 3
   },
   "file_extension": ".py",
   "mimetype": "text/x-python",
   "name": "python",
   "nbconvert_exporter": "python",
   "pygments_lexer": "ipython3",
   "version": "3.8.6"
  }
 },
 "nbformat": 4,
 "nbformat_minor": 4
}
