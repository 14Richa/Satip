{
 "metadata": {
  "language_info": {
   "codemirror_mode": {
    "name": "ipython",
    "version": 3
   },
   "file_extension": ".py",
   "mimetype": "text/x-python",
   "name": "python",
   "nbconvert_exporter": "python",
   "pygments_lexer": "ipython3",
   "version": "3.8.6-final"
  },
  "orig_nbformat": 2,
  "kernelspec": {
   "name": "python3",
   "display_name": "Python 3"
  }
 },
 "nbformat": 4,
 "nbformat_minor": 2,
 "cells": [
  {
   "cell_type": "code",
   "execution_count": 5,
   "metadata": {},
   "outputs": [],
   "source": [
    "import numpy as np\n",
    "import pandas as pd\n",
    "import dataset\n",
    "\n",
    "import FEAutils as hlp\n",
    "from typing import Union\n",
    "import xmltodict\n",
    "import dotenv\n",
    "import datetime\n",
    "import zipfile\n",
    "import copy\n",
    "import os\n",
    "import io\n",
    "\n",
    "from requests.auth import HTTPBasicAuth\n",
    "import requests\n",
    "\n",
    "from nbdev.showdoc import *\n",
    "from fastcore.test import test\n",
    "\n",
    "from satip import utils\n",
    "from satip.gcp_helpers import get_eumetsat_filenames\n",
    "from satip.eumetsat import DownloadManager\n",
    "\n",
    "from ipypb import track\n",
    "from IPython.display import JSON"
   ]
  },
  {
   "cell_type": "code",
   "execution_count": 6,
   "metadata": {},
   "outputs": [],
   "source": [
    "data_dir = '../data/raw'\n",
    "debug_fp = '../logs/EUMETSAT_download.txt'\n",
    "env_vars_fp = '../.env'\n",
    "metadata_db_fp = '../data/EUMETSAT_metadata.db'\n",
    "\n",
    "download_data = True"
   ]
  },
  {
   "cell_type": "code",
   "execution_count": 7,
   "metadata": {},
   "outputs": [],
   "source": [
    "dotenv.load_dotenv(env_vars_fp)\n",
    "\n",
    "user_key = os.environ.get('user_key')\n",
    "user_secret = os.environ.get('user_secret')"
   ]
  },
  {
   "cell_type": "code",
   "execution_count": 10,
   "metadata": {},
   "outputs": [
    {
     "output_type": "stream",
     "name": "stderr",
     "text": [
      "2020-11-13 11:59:04,903 - INFO - ********** Download Manager Initialised **************\n",
      "2020-11-13 11:59:04,903 - INFO - ********** Download Manager Initialised **************\n",
      "2020-11-13 11:59:04,903 - INFO - ********** Download Manager Initialised **************\n"
     ]
    },
    {
     "output_type": "display_data",
     "data": {
      "text/plain": "\u001b[A\u001b[2K\r [████████████████████████████████████████████████████████████] 6/6 [00:00<00:00, 0.00s/it]",
      "text/html": "<div><span class=\"Text-label\" style=\"display:inline-block; overflow:hidden; white-space:nowrap; text-overflow:ellipsis; min-width:0; max-width:15ex; vertical-align:middle; text-align:right\"></span>\n<progress style=\"width:60ex\" max=\"6\" value=\"6\" class=\"Progress-main\"/></progress>\n<span class=\"Progress-label\"><strong>100%</strong></span>\n<span class=\"Iteration-label\">6/6</span>\n<span class=\"Time-label\">[00:00<00:00, 0.00s/it]</span></div>"
     },
     "metadata": {}
    }
   ],
   "source": [
    "dm = DownloadManager(user_key, user_secret, data_dir, metadata_db_fp, debug_fp)\n",
    "\n",
    "start_date = '2020-10-01 12:00'\n",
    "end_date = '2020-10-01 12:30'\n",
    "\n",
    "if download_data == True:\n",
    "    dm.download_datasets(start_date, end_date)"
   ]
  },
  {
   "cell_type": "code",
   "execution_count": null,
   "metadata": {},
   "outputs": [],
   "source": [
    "BUCKET_NAME = \"solar-pv-nowcasting-data\"\n",
    "PREFIX = \"satellite/EUMETSAT/SEVIRI_RSS/native/\""
   ]
  }
 ]
}