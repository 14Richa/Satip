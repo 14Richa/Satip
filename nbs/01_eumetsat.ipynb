{
 "cells": [
  {
   "cell_type": "code",
   "execution_count": null,
   "metadata": {},
   "outputs": [],
   "source": [
    "# default_exp eumetsat"
   ]
  },
  {
   "cell_type": "markdown",
   "metadata": {},
   "source": [
    "# EUMETSAT API Wrapper Development"
   ]
  },
  {
   "cell_type": "code",
   "execution_count": null,
   "metadata": {},
   "outputs": [],
   "source": [
    "#hide\n",
    "import dotenv\n",
    "import os\n",
    "\n",
    "from requests.auth import HTTPBasicAuth\n",
    "import requests\n",
    "\n",
    "from nbdev.showdoc import *\n",
    "from fastcore.test import test\n",
    "\n",
    "from ipypb import track\n",
    "from IPython.display import JSON"
   ]
  },
  {
   "cell_type": "markdown",
   "metadata": {},
   "source": [
    "<br>\n",
    "\n",
    "### User Input"
   ]
  },
  {
   "cell_type": "code",
   "execution_count": null,
   "metadata": {},
   "outputs": [],
   "source": [
    "data_dir = '../data/raw'\n",
    "debug_fp = '../logs/EUMETSAT_download.txt'\n",
    "env_vars_fp = '../.env'\n",
    "metadata_db_fp = '../data/EUMETSAT_metadata.db'\n",
    "\n",
    "download_data = False"
   ]
  },
  {
   "cell_type": "markdown",
   "metadata": {},
   "source": [
    "<br>\n",
    "\n",
    "### Authorising API Access\n",
    "\n",
    "First we'll load the the environment variables"
   ]
  },
  {
   "cell_type": "code",
   "execution_count": null,
   "metadata": {},
   "outputs": [],
   "source": [
    "dotenv.load_dotenv(env_vars_fp)\n",
    "\n",
    "user_key = os.environ.get('USER_KEY')\n",
    "user_secret = os.environ.get('USER_SECRET')\n",
    "slack_id = os.environ.get('SLACK_ID')\n",
    "slack_webhook_url = os.environ.get('SLACK_WEBHOOK_URL')"
   ]
  },
  {
   "cell_type": "code",
   "execution_count": null,
   "metadata": {},
   "outputs": [],
   "source": []
  },
  {
   "cell_type": "code",
   "execution_count": null,
   "metadata": {},
   "outputs": [],
   "source": [
    "#hide\n",
    "def check_env_vars_have_loaded(env_vars):\n",
    "    for name, value in env_vars.items():\n",
    "        assert value is not None, f'{name}` should not be None'\n",
    "    \n",
    "    return\n",
    "\n",
    "env_vars = {\n",
    "    'user_key': user_key,\n",
    "    'user_secret': user_secret,\n",
    "    'slack_id': slack_id,\n",
    "    'slack_webhook_url': slack_webhook_url,\n",
    "}\n",
    "\n",
    "check_env_vars_have_loaded(env_vars)"
   ]
  },
  {
   "cell_type": "markdown",
   "metadata": {},
   "source": [
    "<br>\n",
    "\n",
    "We'll then use them to request an access token for the API"
   ]
  },
  {
   "cell_type": "code",
   "execution_count": null,
   "metadata": {},
   "outputs": [],
   "source": [
    "#export\n",
    "def request_access_token(user_key, user_secret):\n",
    "    \"\"\"\n",
    "    Requests an access token from the EUMETSAT data API\n",
    "    \n",
    "    Parameters:\n",
    "        user_key: EUMETSAT API key\n",
    "        user_secret: EUMETSAT API secret\n",
    "        \n",
    "    Returns:\n",
    "        access_token: API access token\n",
    "        \n",
    "    \"\"\"\n",
    "    \n",
    "    token_url = 'https://api.eumetsat.int/token'\n",
    "\n",
    "    data = {\n",
    "      'grant_type': 'client_credentials'\n",
    "    }\n",
    "\n",
    "    r = requests.post(token_url, data=data, auth=(user_key, user_secret))\n",
    "    access_token = r.json()['access_token']\n",
    "\n",
    "    return access_token"
   ]
  },
  {
   "cell_type": "code",
   "execution_count": null,
   "metadata": {},
   "outputs": [],
   "source": []
  },
  {
   "cell_type": "code",
   "execution_count": null,
   "metadata": {},
   "outputs": [
    {
     "data": {
      "text/plain": [
       "'925a0d6e-8f06-368c-b7f2-c4fa98ee1222'"
      ]
     },
     "execution_count": null,
     "metadata": {},
     "output_type": "execute_result"
    }
   ],
   "source": [
    "access_token = request_access_token(user_key, user_secret)\n",
    "\n",
    "access_token"
   ]
  },
  {
   "cell_type": "code",
   "execution_count": null,
   "metadata": {},
   "outputs": [],
   "source": []
  }
 ],
 "metadata": {
  "kernelspec": {
   "display_name": "sat_image_processing",
   "language": "python",
   "name": "sat_image_processing"
  }
 },
 "nbformat": 4,
 "nbformat_minor": 4
}
