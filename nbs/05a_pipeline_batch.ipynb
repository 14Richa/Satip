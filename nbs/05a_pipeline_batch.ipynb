{
 "cells": [
  {
   "cell_type": "code",
   "execution_count": null,
   "metadata": {},
   "outputs": [],
   "source": [
    "# default_exp backfill"
   ]
  },
  {
   "cell_type": "markdown",
   "metadata": {},
   "source": [
    "# Pipeline for backfilling / batching\n",
    "\n",
    "Dagster can only run one pipeline per module, and `05_pipeline.ipynb` ie `mario.py` already has one pipeline defined for continuous linear retrieval where the steps take place one after the other.\n",
    "\n"
   ]
  },
  {
   "cell_type": "code",
   "execution_count": null,
   "metadata": {},
   "outputs": [
    {
     "name": "stderr",
     "output_type": "stream",
     "text": [
      "Downloading: 100%|██████████| 1/1 [00:00<00:00,  1.30rows/s]\n"
     ]
    }
   ],
   "source": [
    "#exports\n",
    "import pandas as pd\n",
    "import xarray as xr\n",
    "import os\n",
    "import glob\n",
    "import dotenv\n",
    "import warnings\n",
    "from dagster import execute_pipeline, pipeline, solid, Field, OutputDefinition, DagsterType, Output\n",
    "\n",
    "from IPython.display import JSON\n",
    "\n",
    "from satip import eumetsat, reproj, io, gcp_helpers\n",
    "from satip.mario import (df_metadata_to_dt_to_fp_map, \n",
    "                         reproject_datasets, \n",
    "                         save_metadata, \n",
    "                         compress_and_save_datasets, \n",
    "                         compress_export_then_delete_raw)"
   ]
  },
  {
   "cell_type": "code",
   "execution_count": null,
   "metadata": {},
   "outputs": [],
   "source": [
    "# Filter some warnings\n",
    "#exports\n",
    "warnings.filterwarnings('ignore', message='divide by zero encountered in true_divide')\n",
    "warnings.filterwarnings('ignore', message='invalid value encountered in sin')\n",
    "warnings.filterwarnings('ignore', message='invalid value encountered in cos')\n",
    "warnings.filterwarnings('ignore', message='invalid value encountered in subtract')\n",
    "warnings.filterwarnings('ignore', message='You will likely lose important projection information when converting to a PROJ string from another format. See: https://proj.org/faq.html#what-is-the-best-format-for-describing-coordinate-reference-systems')"
   ]
  },
  {
   "cell_type": "code",
   "execution_count": null,
   "metadata": {},
   "outputs": [
    {
     "name": "stdout",
     "output_type": "stream",
     "text": [
      "Earliest 2020-01-01 00:00, latest 2020-01-01 01:00\n"
     ]
    },
    {
     "data": {
      "text/html": [
       "<div><span class=\"Text-label\" style=\"display:inline-block; overflow:hidden; white-space:nowrap; text-overflow:ellipsis; min-width:0; max-width:15ex; vertical-align:middle; text-align:right\"></span>\n",
       "<progress style=\"width:60ex\" max=\"1\" value=\"1\" class=\"Progress-main\"/></progress>\n",
       "<span class=\"Progress-label\"><strong>100%</strong></span>\n",
       "<span class=\"Iteration-label\">1/1</span>\n",
       "<span class=\"Time-label\">[00:08<00:08, 8.27s/it]</span></div>"
      ],
      "text/plain": [
       "\u001b[A\u001b[2K\r",
       " [████████████████████████████████████████████████████████████] 1/1 [00:08<00:08, 8.27s/it]"
      ]
     },
     "metadata": {},
     "output_type": "display_data"
    },
    {
     "name": "stdout",
     "output_type": "stream",
     "text": [
      "identify_available_datasets: found 12 results from API\n"
     ]
    },
    {
     "data": {
      "application/json": [],
      "text/plain": [
       "<IPython.core.display.JSON object>"
      ]
     },
     "execution_count": null,
     "metadata": {
      "application/json": {
       "expanded": false,
       "root": "root"
      }
     },
     "output_type": "execute_result"
    }
   ],
   "source": [
    "missing_datasets = io.identifying_missing_datasets(\"2020-01-01 00:00\", \"2020-01-01 01:00\")\n",
    "JSON(missing_datasets)"
   ]
  },
  {
   "cell_type": "code",
   "execution_count": null,
   "metadata": {},
   "outputs": [],
   "source": [
    "#exports\n",
    "\n",
    "# create pandas DataFrame type definition for Dagster\n",
    "DataFrame = DagsterType(\n",
    "    name=\"DataFrame\",\n",
    "    type_check_fn=lambda _, x: isinstance(x, pd.DataFrame),\n",
    ")\n",
    "\n",
    "@solid(output_defs=[OutputDefinition(name='df_new_metadata', dagster_type=DataFrame, is_required=False)])\n",
    "def download_missing_eumetsat_files(context, env_vars_fp: str, data_dir: str, metadata_db_fp: str, debug_fp: str, table_id: str, project_id: str, start_date: str='', end_date: str=''):\n",
    "    _ = dotenv.load_dotenv(env_vars_fp)\n",
    "    dm = eumetsat.DownloadManager(os.environ.get('USER_KEY'), os.environ.get('USER_SECRET'), data_dir, metadata_db_fp, debug_fp, slack_webhook_url=os.environ.get('SLACK_WEBHOOK_URL'), slack_id=os.environ.get('SLACK_ID'))\n",
    "    \n",
    "    missing_datasets = io.identifying_missing_datasets(start_date, end_date)\n",
    "    context.log.info(f\"Missing data: {len(missing_datasets)}\")\n",
    "    \n",
    "    df_new_metadata = dm.download_datasets(missing_datasets)\n",
    "\n",
    "    # if df_new_metadata is None, pipeline will skip subsequent solids\n",
    "    if df_new_metadata is None:\n",
    "        context.log.info(\"*******************\")\n",
    "        context.log.info(\"Files already in zarr. Exiting.\")\n",
    "        context.log.info(\"*******************\")\n",
    "        return\n",
    "\n",
    "    yield Output(df_new_metadata, 'df_new_metadata')"
   ]
  },
  {
   "cell_type": "code",
   "execution_count": null,
   "metadata": {},
   "outputs": [],
   "source": [
    "#exports\n",
    "@pipeline\n",
    "def download_missing_data_pipeline():  \n",
    "    # Retrieving data, reprojecting, compressing, and saving to GCP\n",
    "    df_new_metadata = download_missing_eumetsat_files()\n",
    "    datetime_to_filepath = df_metadata_to_dt_to_fp_map(df_new_metadata)\n",
    "    ds_combined_reproj = reproject_datasets(datetime_to_filepath)\n",
    "    ds_combined_compressed = compress_and_save_datasets(ds_combined_reproj)\n",
    "    \n",
    "    ready_to_delete = save_metadata(ds_combined_compressed, df_new_metadata)\n",
    "    compress_export_then_delete_raw(ready_to_delete)"
   ]
  },
  {
   "cell_type": "markdown",
   "metadata": {},
   "source": [
    "Test the configuration and execute the pipeline:"
   ]
  },
  {
   "cell_type": "code",
   "execution_count": null,
   "metadata": {},
   "outputs": [],
   "source": [
    "#hide\n",
    "run_config = {\n",
    "    'solids': {\n",
    "        'download_missing_eumetsat_files': {\n",
    "            'inputs': {\n",
    "                'env_vars_fp': \"../.env\",\n",
    "                'data_dir': \"../data/raw_bfill\",\n",
    "                'metadata_db_fp': \"../data/EUMETSAT_metadata.db\",\n",
    "                'debug_fp': \"../logs/EUMETSAT_download.txt\",\n",
    "                'table_id': \"eumetsat.metadata\",\n",
    "                'project_id': \"solar-pv-nowcasting\",\n",
    "                'start_date': \"2019-02-01T00:00:00\",\n",
    "                'end_date': \"2019-02-01T00:05:00\"\n",
    "            },\n",
    "        },\n",
    "        'df_metadata_to_dt_to_fp_map': {\n",
    "            'inputs': {\n",
    "                'data_dir': \"../data/raw_bfill\"\n",
    "            }\n",
    "        },\n",
    "        'reproject_datasets': {\n",
    "            'inputs': {\n",
    "                'new_coords_fp': \"../data/intermediate/reproj_coords_TM_4km.csv\",\n",
    "                'new_grid_fp': \"../data/intermediate/new_grid_4km_TM.json\"\n",
    "            }\n",
    "        },\n",
    "        'compress_and_save_datasets': {\n",
    "            'inputs': {\n",
    "                'zarr_bucket': \"solar-pv-nowcasting-data/satellite/EUMETSAT/SEVIRI_RSS/full_extent_TM_int16\",\n",
    "                'var_name': \"stacked_eumetsat_data\"\n",
    "            }\n",
    "        },\n",
    "        'save_metadata': {\n",
    "            'inputs': {\n",
    "                'table_id': \"eumetsat.metadata\",\n",
    "                'project_id': \"solar-pv-nowcasting\"\n",
    "            },\n",
    "        },\n",
    "        'compress_export_then_delete_raw': {\n",
    "            'inputs': {\n",
    "                'data_dir': \"../data/raw_bfill\",\n",
    "                'compressed_dir': \"../data/compressed_bfill\",\n",
    "                'BUCKET_NAME': \"solar-pv-nowcasting-data\",\n",
    "                'PREFIX': \"satellite/EUMETSAT/SEVIRI_RSS/native/\",\n",
    "                'ready_to_delete': True\n",
    "            },\n",
    "        }\n",
    "    }\n",
    "}"
   ]
  },
  {
   "cell_type": "code",
   "execution_count": null,
   "metadata": {},
   "outputs": [
    {
     "name": "stderr",
     "output_type": "stream",
     "text": [
      "2021-03-08 09:31:09 - dagster - DEBUG - download_missing_data_pipeline - b43da3f6-03fc-4b6c-a764-774e503fbb48 - 47999 - ENGINE_EVENT - Starting initialization of resources [asset_store].\n",
      "2021-03-08 09:31:09 - dagster - DEBUG - download_missing_data_pipeline - b43da3f6-03fc-4b6c-a764-774e503fbb48 - 47999 - ENGINE_EVENT - Finished initialization of resources [asset_store].\n",
      "2021-03-08 09:31:09 - dagster - DEBUG - download_missing_data_pipeline - b43da3f6-03fc-4b6c-a764-774e503fbb48 - 47999 - PIPELINE_START - Started execution of pipeline \"download_missing_data_pipeline\".\n",
      "2021-03-08 09:31:09 - dagster - DEBUG - download_missing_data_pipeline - b43da3f6-03fc-4b6c-a764-774e503fbb48 - 47999 - ENGINE_EVENT - Executing steps in process (pid: 47999)\n",
      "2021-03-08 09:31:09 - dagster - DEBUG - download_missing_data_pipeline - b43da3f6-03fc-4b6c-a764-774e503fbb48 - 47999 - download_missing_eumetsat_files.compute - STEP_START - Started execution of step \"download_missing_eumetsat_files.compute\".\n",
      "2021-03-08 09:31:09 - dagster - DEBUG - download_missing_data_pipeline - b43da3f6-03fc-4b6c-a764-774e503fbb48 - 47999 - download_missing_eumetsat_files.compute - STEP_INPUT - Got input \"env_vars_fp\" of type \"String\". (Type check passed).\n",
      "2021-03-08 09:31:09 - dagster - DEBUG - download_missing_data_pipeline - b43da3f6-03fc-4b6c-a764-774e503fbb48 - 47999 - download_missing_eumetsat_files.compute - STEP_INPUT - Got input \"data_dir\" of type \"String\". (Type check passed).\n",
      "2021-03-08 09:31:09 - dagster - DEBUG - download_missing_data_pipeline - b43da3f6-03fc-4b6c-a764-774e503fbb48 - 47999 - download_missing_eumetsat_files.compute - STEP_INPUT - Got input \"metadata_db_fp\" of type \"String\". (Type check passed).\n",
      "2021-03-08 09:31:09 - dagster - DEBUG - download_missing_data_pipeline - b43da3f6-03fc-4b6c-a764-774e503fbb48 - 47999 - download_missing_eumetsat_files.compute - STEP_INPUT - Got input \"debug_fp\" of type \"String\". (Type check passed).\n",
      "2021-03-08 09:31:09 - dagster - DEBUG - download_missing_data_pipeline - b43da3f6-03fc-4b6c-a764-774e503fbb48 - 47999 - download_missing_eumetsat_files.compute - STEP_INPUT - Got input \"table_id\" of type \"String\". (Type check passed).\n",
      "2021-03-08 09:31:09 - dagster - DEBUG - download_missing_data_pipeline - b43da3f6-03fc-4b6c-a764-774e503fbb48 - 47999 - download_missing_eumetsat_files.compute - STEP_INPUT - Got input \"project_id\" of type \"String\". (Type check passed).\n",
      "2021-03-08 09:31:09 - dagster - DEBUG - download_missing_data_pipeline - b43da3f6-03fc-4b6c-a764-774e503fbb48 - 47999 - download_missing_eumetsat_files.compute - STEP_INPUT - Got input \"start_date\" of type \"String\". (Type check passed).\n",
      "2021-03-08 09:31:09 - dagster - DEBUG - download_missing_data_pipeline - b43da3f6-03fc-4b6c-a764-774e503fbb48 - 47999 - download_missing_eumetsat_files.compute - STEP_INPUT - Got input \"end_date\" of type \"String\". (Type check passed).\n",
      "2021-03-08 09:31:09,728 - INFO - ********** Download Manager Initialised **************\n",
      "2021-03-08 09:31:09,728 - INFO - ********** Download Manager Initialised **************\n"
     ]
    },
    {
     "name": "stdout",
     "output_type": "stream",
     "text": [
      "Earliest 2019-02-01T00:00:00, latest 2019-02-01T00:05:00\n"
     ]
    },
    {
     "data": {
      "text/html": [
       "<div><span class=\"Text-label\" style=\"display:inline-block; overflow:hidden; white-space:nowrap; text-overflow:ellipsis; min-width:0; max-width:15ex; vertical-align:middle; text-align:right\"></span>\n",
       "<progress style=\"width:60ex\" max=\"1\" value=\"1\" class=\"Progress-main\"/></progress>\n",
       "<span class=\"Progress-label\"><strong>100%</strong></span>\n",
       "<span class=\"Iteration-label\">1/1</span>\n",
       "<span class=\"Time-label\">[00:04<00:04, 4.11s/it]</span></div>"
      ],
      "text/plain": [
       "\u001b[A\u001b[2K\r",
       " [████████████████████████████████████████████████████████████] 1/1 [00:04<00:04, 4.11s/it]"
      ]
     },
     "metadata": {},
     "output_type": "display_data"
    },
    {
     "name": "stdout",
     "output_type": "stream",
     "text": [
      "identify_available_datasets: found 1 results from API\n"
     ]
    },
    {
     "name": "stderr",
     "output_type": "stream",
     "text": [
      "2021-03-08 09:31:13 - dagster - INFO - system - b43da3f6-03fc-4b6c-a764-774e503fbb48 - download_missing_eumetsat_files.compute - Missing data: 1\n",
      "2021-03-08 09:31:13,985 - INFO - 1 files queried, 0 found in ../data/raw_bfill, 1 to download.\n",
      "2021-03-08 09:31:13,985 - INFO - 1 files queried, 0 found in ../data/raw_bfill, 1 to download.\n"
     ]
    },
    {
     "name": "stdout",
     "output_type": "stream",
     "text": [
      "[{'type': 'Feature', 'id': 'MSG3-SEVI-MSG15-0100-NA-20190201000416.813000000Z-NA', 'geometry': {}, 'properties': {'identifier': 'MSG3-SEVI-MSG15-0100-NA-20190201000416.813000000Z-NA', 'parentIdentifier': 'EO:EUM:DAT:MSG:MSG15-RSS', 'title': 'MSG3-SEVI-MSG15-0100-NA-20190201000416.813000000Z-NA', 'date': '2019-02-01T00:00:10.255Z/2019-02-01T00:04:16.813Z', 'updated': '2019-02-01T00:00:10.255Z', 'acquisitionInformation': [{'platform': {'platformShortName': 'MSG3'}, 'instrument': {'instrumentShortName': 'SEVIRI'}}], 'productInformation': {'productType': 'MSG15', 'size': 37158, 'timeliness': 'NOMINAL'}, 'links': {'type': 'Links', 'data': [{'type': 'Link', 'href': 'https://api.eumetsat.int/data/download/products/MSG3-SEVI-MSG15-0100-NA-20190201000416.813000000Z-NA', 'mediaType': 'application/zip', 'title': 'Product download'}], 'alternates': [{'type': 'Link', 'href': 'https://api.eumetsat.int/data/download/products/MSG3-SEVI-MSG15-0100-NA-20190201000416.813000000Z-NA/metadata', 'mediaType': 'application/xml', 'title': 'Metadata'}, {'type': 'Link', 'href': 'https://api.eumetsat.int/data/download/products/MSG3-SEVI-MSG15-0100-NA-20190201000416.813000000Z-NA/metadata?format=json', 'mediaType': 'application/json', 'title': 'Metadata in JSON format'}], 'previews': [{'type': 'Link', 'href': 'https://api.eumetsat.int/data/download/products/MSG3-SEVI-MSG15-0100-NA-20190201000416.813000000Z-NA/browse', 'mediaType': 'image/jpeg', 'title': 'Quicklook'}], 'sip-entries': [{'type': 'Link', 'href': 'https://api.eumetsat.int/data/download/products/MSG3-SEVI-MSG15-0100-NA-20190201000416.813000000Z-NA/entry?name=EOPMetadata.xml', 'mediaType': 'application/xml', 'title': 'EOPMetadata.xml'}, {'type': 'Link', 'href': 'https://api.eumetsat.int/data/download/products/MSG3-SEVI-MSG15-0100-NA-20190201000416.813000000Z-NA/entry?name=MSG3-SEVI-MSG15-0100-NA-20190201000416.813000000Z-NA.nat', 'mediaType': 'application/octet-stream', 'title': 'MSG3-SEVI-MSG15-0100-NA-20190201000416.813000000Z-NA.nat'}, {'type': 'Link', 'href': 'https://api.eumetsat.int/data/download/products/MSG3-SEVI-MSG15-0100-NA-20190201000416.813000000Z-NA/entry?name=manifest.xml', 'mediaType': 'application/xml', 'title': 'manifest.xml'}]}}}]\n"
     ]
    },
    {
     "data": {
      "text/html": [
       "<div><span class=\"Text-label\" style=\"display:inline-block; overflow:hidden; white-space:nowrap; text-overflow:ellipsis; min-width:0; max-width:15ex; vertical-align:middle; text-align:right\"></span>\n",
       "<progress style=\"width:60ex\" max=\"1\" value=\"1\" class=\"Progress-main\"/></progress>\n",
       "<span class=\"Progress-label\"><strong>100%</strong></span>\n",
       "<span class=\"Iteration-label\">1/1</span>\n",
       "<span class=\"Time-label\">[00:05<00:05, 5.43s/it]</span></div>"
      ],
      "text/plain": [
       "\u001b[A\u001b[2K\r",
       " [████████████████████████████████████████████████████████████] 1/1 [00:05<00:05, 5.43s/it]"
      ]
     },
     "metadata": {},
     "output_type": "display_data"
    },
    {
     "name": "stderr",
     "output_type": "stream",
     "text": [
      "2021-03-08 09:31:19 - dagster - DEBUG - download_missing_data_pipeline - b43da3f6-03fc-4b6c-a764-774e503fbb48 - 47999 - download_missing_eumetsat_files.compute - STEP_OUTPUT - Yielded output \"df_new_metadata\" of type \"DataFrame\". (Type check passed).\n",
      "2021-03-08 09:31:19 - dagster - DEBUG - download_missing_data_pipeline - b43da3f6-03fc-4b6c-a764-774e503fbb48 - 47999 - download_missing_eumetsat_files.compute - OBJECT_STORE_OPERATION - Stored intermediate object for output df_new_metadata in memory object store using pickle.\n",
      "2021-03-08 09:31:19 - dagster - DEBUG - download_missing_data_pipeline - b43da3f6-03fc-4b6c-a764-774e503fbb48 - 47999 - download_missing_eumetsat_files.compute - STEP_SUCCESS - Finished execution of step \"download_missing_eumetsat_files.compute\" in 9.69s.\n",
      "2021-03-08 09:31:19 - dagster - DEBUG - download_missing_data_pipeline - b43da3f6-03fc-4b6c-a764-774e503fbb48 - 47999 - df_metadata_to_dt_to_fp_map.compute - STEP_START - Started execution of step \"df_metadata_to_dt_to_fp_map.compute\".\n",
      "2021-03-08 09:31:19 - dagster - DEBUG - download_missing_data_pipeline - b43da3f6-03fc-4b6c-a764-774e503fbb48 - 47999 - df_metadata_to_dt_to_fp_map.compute - OBJECT_STORE_OPERATION - Retrieved intermediate object for input df_new_metadata in memory object store using pickle.\n",
      "2021-03-08 09:31:19 - dagster - DEBUG - download_missing_data_pipeline - b43da3f6-03fc-4b6c-a764-774e503fbb48 - 47999 - df_metadata_to_dt_to_fp_map.compute - STEP_INPUT - Got input \"df_new_metadata\" of type \"Any\". (Type check passed).\n",
      "2021-03-08 09:31:19 - dagster - DEBUG - download_missing_data_pipeline - b43da3f6-03fc-4b6c-a764-774e503fbb48 - 47999 - df_metadata_to_dt_to_fp_map.compute - STEP_INPUT - Got input \"data_dir\" of type \"String\". (Type check passed).\n",
      "2021-03-08 09:31:19 - dagster - DEBUG - download_missing_data_pipeline - b43da3f6-03fc-4b6c-a764-774e503fbb48 - 47999 - df_metadata_to_dt_to_fp_map.compute - STEP_OUTPUT - Yielded output \"result\" of type \"dict\". (Type check passed).\n",
      "2021-03-08 09:31:19 - dagster - DEBUG - download_missing_data_pipeline - b43da3f6-03fc-4b6c-a764-774e503fbb48 - 47999 - df_metadata_to_dt_to_fp_map.compute - OBJECT_STORE_OPERATION - Stored intermediate object for output result in memory object store using pickle.\n",
      "2021-03-08 09:31:19 - dagster - DEBUG - download_missing_data_pipeline - b43da3f6-03fc-4b6c-a764-774e503fbb48 - 47999 - df_metadata_to_dt_to_fp_map.compute - STEP_SUCCESS - Finished execution of step \"df_metadata_to_dt_to_fp_map.compute\" in 4.43ms.\n",
      "2021-03-08 09:31:19 - dagster - DEBUG - download_missing_data_pipeline - b43da3f6-03fc-4b6c-a764-774e503fbb48 - 47999 - reproject_datasets.compute - STEP_START - Started execution of step \"reproject_datasets.compute\".\n",
      "2021-03-08 09:31:19 - dagster - DEBUG - download_missing_data_pipeline - b43da3f6-03fc-4b6c-a764-774e503fbb48 - 47999 - reproject_datasets.compute - OBJECT_STORE_OPERATION - Retrieved intermediate object for input datetime_to_filepath in memory object store using pickle.\n",
      "2021-03-08 09:31:19 - dagster - DEBUG - download_missing_data_pipeline - b43da3f6-03fc-4b6c-a764-774e503fbb48 - 47999 - reproject_datasets.compute - STEP_INPUT - Got input \"datetime_to_filepath\" of type \"dict\". (Type check passed).\n",
      "2021-03-08 09:31:19 - dagster - DEBUG - download_missing_data_pipeline - b43da3f6-03fc-4b6c-a764-774e503fbb48 - 47999 - reproject_datasets.compute - STEP_INPUT - Got input \"new_coords_fp\" of type \"String\". (Type check passed).\n",
      "2021-03-08 09:31:19 - dagster - DEBUG - download_missing_data_pipeline - b43da3f6-03fc-4b6c-a764-774e503fbb48 - 47999 - reproject_datasets.compute - STEP_INPUT - Got input \"new_grid_fp\" of type \"String\". (Type check passed).\n",
      "2021-03-08 09:31:22 - dagster - DEBUG - download_missing_data_pipeline - b43da3f6-03fc-4b6c-a764-774e503fbb48 - 47999 - reproject_datasets.compute - STEP_OUTPUT - Yielded output \"result\" of type \"Any\". (Type check passed).\n",
      "2021-03-08 09:31:22 - dagster - DEBUG - download_missing_data_pipeline - b43da3f6-03fc-4b6c-a764-774e503fbb48 - 47999 - reproject_datasets.compute - OBJECT_STORE_OPERATION - Stored intermediate object for output result in memory object store using pickle.\n",
      "2021-03-08 09:31:22 - dagster - DEBUG - download_missing_data_pipeline - b43da3f6-03fc-4b6c-a764-774e503fbb48 - 47999 - reproject_datasets.compute - STEP_SUCCESS - Finished execution of step \"reproject_datasets.compute\" in 2.89s.\n",
      "2021-03-08 09:31:22 - dagster - DEBUG - download_missing_data_pipeline - b43da3f6-03fc-4b6c-a764-774e503fbb48 - 47999 - compress_and_save_datasets.compute - STEP_START - Started execution of step \"compress_and_save_datasets.compute\".\n",
      "2021-03-08 09:31:22 - dagster - DEBUG - download_missing_data_pipeline - b43da3f6-03fc-4b6c-a764-774e503fbb48 - 47999 - compress_and_save_datasets.compute - OBJECT_STORE_OPERATION - Retrieved intermediate object for input ds_combined_reproj in memory object store using pickle.\n",
      "2021-03-08 09:31:22 - dagster - DEBUG - download_missing_data_pipeline - b43da3f6-03fc-4b6c-a764-774e503fbb48 - 47999 - compress_and_save_datasets.compute - STEP_INPUT - Got input \"ds_combined_reproj\" of type \"Any\". (Type check passed).\n",
      "2021-03-08 09:31:22 - dagster - DEBUG - download_missing_data_pipeline - b43da3f6-03fc-4b6c-a764-774e503fbb48 - 47999 - compress_and_save_datasets.compute - STEP_INPUT - Got input \"zarr_bucket\" of type \"String\". (Type check passed).\n",
      "2021-03-08 09:31:22 - dagster - DEBUG - download_missing_data_pipeline - b43da3f6-03fc-4b6c-a764-774e503fbb48 - 47999 - compress_and_save_datasets.compute - STEP_INPUT - Got input \"var_name\" of type \"String\". (Type check passed).\n",
      "2021-03-08 09:33:20 - dagster - DEBUG - download_missing_data_pipeline - b43da3f6-03fc-4b6c-a764-774e503fbb48 - 47999 - compress_and_save_datasets.compute - STEP_OUTPUT - Yielded output \"result\" of type \"Any\". (Type check passed).\n",
      "2021-03-08 09:33:20 - dagster - DEBUG - download_missing_data_pipeline - b43da3f6-03fc-4b6c-a764-774e503fbb48 - 47999 - compress_and_save_datasets.compute - OBJECT_STORE_OPERATION - Stored intermediate object for output result in memory object store using pickle.\n",
      "2021-03-08 09:33:20 - dagster - DEBUG - download_missing_data_pipeline - b43da3f6-03fc-4b6c-a764-774e503fbb48 - 47999 - compress_and_save_datasets.compute - STEP_SUCCESS - Finished execution of step \"compress_and_save_datasets.compute\" in 1m57s.\n",
      "2021-03-08 09:33:20 - dagster - DEBUG - download_missing_data_pipeline - b43da3f6-03fc-4b6c-a764-774e503fbb48 - 47999 - save_metadata.compute - STEP_START - Started execution of step \"save_metadata.compute\".\n",
      "2021-03-08 09:33:20 - dagster - DEBUG - download_missing_data_pipeline - b43da3f6-03fc-4b6c-a764-774e503fbb48 - 47999 - save_metadata.compute - OBJECT_STORE_OPERATION - Retrieved intermediate object for input ds_combined_compressed in memory object store using pickle.\n",
      "2021-03-08 09:33:20 - dagster - DEBUG - download_missing_data_pipeline - b43da3f6-03fc-4b6c-a764-774e503fbb48 - 47999 - save_metadata.compute - OBJECT_STORE_OPERATION - Retrieved intermediate object for input df_new_metadata in memory object store using pickle.\n",
      "2021-03-08 09:33:20 - dagster - DEBUG - download_missing_data_pipeline - b43da3f6-03fc-4b6c-a764-774e503fbb48 - 47999 - save_metadata.compute - STEP_INPUT - Got input \"ds_combined_compressed\" of type \"Any\". (Type check passed).\n",
      "2021-03-08 09:33:20 - dagster - DEBUG - download_missing_data_pipeline - b43da3f6-03fc-4b6c-a764-774e503fbb48 - 47999 - save_metadata.compute - STEP_INPUT - Got input \"df_new_metadata\" of type \"Any\". (Type check passed).\n",
      "2021-03-08 09:33:20 - dagster - DEBUG - download_missing_data_pipeline - b43da3f6-03fc-4b6c-a764-774e503fbb48 - 47999 - save_metadata.compute - STEP_INPUT - Got input \"table_id\" of type \"String\". (Type check passed).\n",
      "2021-03-08 09:33:20 - dagster - DEBUG - download_missing_data_pipeline - b43da3f6-03fc-4b6c-a764-774e503fbb48 - 47999 - save_metadata.compute - STEP_INPUT - Got input \"project_id\" of type \"String\". (Type check passed).\n"
     ]
    },
    {
     "name": "stdout",
     "output_type": "stream",
     "text": [
      "Saved file to zarr bucket\n"
     ]
    },
    {
     "name": "stderr",
     "output_type": "stream",
     "text": [
      "1it [00:04,  4.75s/it]\n",
      "2021-03-08 09:33:25 - dagster - INFO - system - b43da3f6-03fc-4b6c-a764-774e503fbb48 - save_metadata.compute - 1 new metadata entries were added\n",
      "2021-03-08 09:33:25 - dagster - DEBUG - download_missing_data_pipeline - b43da3f6-03fc-4b6c-a764-774e503fbb48 - 47999 - save_metadata.compute - STEP_OUTPUT - Yielded output \"result\" of type \"Any\". (Type check passed).\n",
      "2021-03-08 09:33:25 - dagster - DEBUG - download_missing_data_pipeline - b43da3f6-03fc-4b6c-a764-774e503fbb48 - 47999 - save_metadata.compute - OBJECT_STORE_OPERATION - Stored intermediate object for output result in memory object store using pickle.\n",
      "2021-03-08 09:33:25 - dagster - DEBUG - download_missing_data_pipeline - b43da3f6-03fc-4b6c-a764-774e503fbb48 - 47999 - save_metadata.compute - STEP_SUCCESS - Finished execution of step \"save_metadata.compute\" in 5.09s.\n",
      "2021-03-08 09:33:25 - dagster - DEBUG - download_missing_data_pipeline - b43da3f6-03fc-4b6c-a764-774e503fbb48 - 47999 - compress_export_then_delete_raw.compute - STEP_START - Started execution of step \"compress_export_then_delete_raw.compute\".\n",
      "2021-03-08 09:33:25 - dagster - DEBUG - download_missing_data_pipeline - b43da3f6-03fc-4b6c-a764-774e503fbb48 - 47999 - compress_export_then_delete_raw.compute - OBJECT_STORE_OPERATION - Retrieved intermediate object for input ds_combined_compressed in memory object store using pickle.\n",
      "2021-03-08 09:33:25 - dagster - DEBUG - download_missing_data_pipeline - b43da3f6-03fc-4b6c-a764-774e503fbb48 - 47999 - compress_export_then_delete_raw.compute - STEP_INPUT - Got input \"ds_combined_compressed\" of type \"Any\". (Type check passed).\n",
      "2021-03-08 09:33:25 - dagster - DEBUG - download_missing_data_pipeline - b43da3f6-03fc-4b6c-a764-774e503fbb48 - 47999 - compress_export_then_delete_raw.compute - STEP_INPUT - Got input \"data_dir\" of type \"String\". (Type check passed).\n",
      "2021-03-08 09:33:25 - dagster - DEBUG - download_missing_data_pipeline - b43da3f6-03fc-4b6c-a764-774e503fbb48 - 47999 - compress_export_then_delete_raw.compute - STEP_INPUT - Got input \"compressed_dir\" of type \"String\". (Type check passed).\n",
      "2021-03-08 09:33:25 - dagster - DEBUG - download_missing_data_pipeline - b43da3f6-03fc-4b6c-a764-774e503fbb48 - 47999 - compress_export_then_delete_raw.compute - STEP_INPUT - Got input \"BUCKET_NAME\" of type \"String\". (Type check passed).\n",
      "2021-03-08 09:33:25 - dagster - DEBUG - download_missing_data_pipeline - b43da3f6-03fc-4b6c-a764-774e503fbb48 - 47999 - compress_export_then_delete_raw.compute - STEP_INPUT - Got input \"PREFIX\" of type \"String\". (Type check passed).\n",
      "2021-03-08 09:33:25 - dagster - DEBUG - download_missing_data_pipeline - b43da3f6-03fc-4b6c-a764-774e503fbb48 - 47999 - compress_export_then_delete_raw.compute - STEP_INPUT - Got input \"ready_to_delete\" of type \"Bool\". (Type check passed).\n",
      "2021-03-08 09:33:25 - dagster - INFO - system - b43da3f6-03fc-4b6c-a764-774e503fbb48 - compress_export_then_delete_raw.compute - Found 1 native files.\n",
      "2021-03-08 09:33:25 - dagster - DEBUG - system - b43da3f6-03fc-4b6c-a764-774e503fbb48 - compress_export_then_delete_raw.compute - Compressing ../data/raw_bfill/MSG3-SEVI-MSG15-0100-NA-20190201000416.813000000Z-NA.nat\n"
     ]
    },
    {
     "name": "stdout",
     "output_type": "stream",
     "text": [
      "1 rows written to BQ eumetsat.metadata, append=True\n",
      "Found 1 native files.\n"
     ]
    },
    {
     "name": "stderr",
     "output_type": "stream",
     "text": [
      "2021-03-08 09:33:26 - dagster - DEBUG - system - b43da3f6-03fc-4b6c-a764-774e503fbb48 - compress_export_then_delete_raw.compute - Filesizes: Before compression = 102.210123 MB. After compression = 26.455837 MB.  Compressed file is 0.25883773762800383 x the size of the uncompressed file.\n",
      "2021-03-08 09:33:26 - dagster - DEBUG - system - b43da3f6-03fc-4b6c-a764-774e503fbb48 - compress_export_then_delete_raw.compute - Moving ../data/raw_bfill/MSG3-SEVI-MSG15-0100-NA-20190201000416.813000000Z-NA.nat.bz2 to ../data/compressed_bfill/2019/02/01/00/04/MSG3-SEVI-MSG15-0100-NA-20190201000416.813000000Z-NA.nat.bz2\n"
     ]
    },
    {
     "name": "stdout",
     "output_type": "stream",
     "text": [
      "Moved and compressed 1 files to ../data/compressed_bfill\n"
     ]
    },
    {
     "name": "stderr",
     "output_type": "stream",
     "text": [
      "2021-03-08 09:34:23 - dagster - INFO - system - b43da3f6-03fc-4b6c-a764-774e503fbb48 - compress_export_then_delete_raw.compute - Removing directory ../data/raw_bfill\n",
      "2021-03-08 09:34:23 - dagster - INFO - system - b43da3f6-03fc-4b6c-a764-774e503fbb48 - compress_export_then_delete_raw.compute - Removing directory ../data/compressed_bfill\n",
      "2021-03-08 09:34:23 - dagster - DEBUG - download_missing_data_pipeline - b43da3f6-03fc-4b6c-a764-774e503fbb48 - 47999 - compress_export_then_delete_raw.compute - STEP_OUTPUT - Yielded output \"result\" of type \"Any\". (Type check passed).\n",
      "2021-03-08 09:34:23 - dagster - DEBUG - download_missing_data_pipeline - b43da3f6-03fc-4b6c-a764-774e503fbb48 - 47999 - compress_export_then_delete_raw.compute - OBJECT_STORE_OPERATION - Stored intermediate object for output result in memory object store using pickle.\n",
      "2021-03-08 09:34:23 - dagster - DEBUG - download_missing_data_pipeline - b43da3f6-03fc-4b6c-a764-774e503fbb48 - 47999 - compress_export_then_delete_raw.compute - STEP_SUCCESS - Finished execution of step \"compress_export_then_delete_raw.compute\" in 58.26s.\n",
      "2021-03-08 09:34:23 - dagster - DEBUG - download_missing_data_pipeline - b43da3f6-03fc-4b6c-a764-774e503fbb48 - 47999 - ENGINE_EVENT - Finished steps in process (pid: 47999) in 3m13s\n",
      "2021-03-08 09:34:23 - dagster - DEBUG - download_missing_data_pipeline - b43da3f6-03fc-4b6c-a764-774e503fbb48 - 47999 - PIPELINE_SUCCESS - Finished execution of pipeline \"download_missing_data_pipeline\".\n"
     ]
    },
    {
     "name": "stdout",
     "output_type": "stream",
     "text": [
      "File /Users/laurence/code/Satip/nbs/../data/compressed_bfill/2019/02/01/00/04/MSG3-SEVI-MSG15-0100-NA-20190201000416.813000000Z-NA.nat.bz2 uploaded to satellite/EUMETSAT/SEVIRI_RSS/native/2019/02/01/00/04/MSG3-SEVI-MSG15-0100-NA-20190201000416.813000000Z-NA.nat.bz2.\n"
     ]
    },
    {
     "data": {
      "text/plain": [
       "<dagster.core.execution.results.PipelineExecutionResult at 0x7f9ff08b9fd0>"
      ]
     },
     "execution_count": null,
     "metadata": {},
     "output_type": "execute_result"
    }
   ],
   "source": [
    "#hide\n",
    "# if 'download_eumetsat_files' in run_config['solids'].keys():\n",
    "#     run_config['solids']['download_missing_eumetsat_files'] = run_config['solids']['download_eumetsat_files']\n",
    "#     run_config['solids'].pop('download_eumetsat_files')\n",
    "\n",
    "execute_pipeline(download_missing_data_pipeline, run_config=run_config)"
   ]
  },
  {
   "cell_type": "code",
   "execution_count": null,
   "metadata": {},
   "outputs": [],
   "source": [
    "#hide\n",
    "from nbdev.export import *\n",
    "notebook2script('05a_pipeline_batch.ipynb')"
   ]
  }
 ],
 "metadata": {
  "kernelspec": {
   "display_name": "satip_dev",
   "language": "python",
   "name": "satip_dev"
  }
 },
 "nbformat": 4,
 "nbformat_minor": 4
}
