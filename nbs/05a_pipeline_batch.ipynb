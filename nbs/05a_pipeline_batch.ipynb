{
 "cells": [
  {
   "cell_type": "code",
   "execution_count": null,
   "metadata": {},
   "outputs": [],
   "source": [
    "# default_exp backfill"
   ]
  },
  {
   "cell_type": "markdown",
   "metadata": {},
   "source": [
    "# Pipeline for backfilling / batching\n",
    "\n",
    "Dagster can only run one pipeline per module, and `05_pipeline.ipynb` ie `mario.py` already has one pipeline defined for continuous linear retrieval where the steps take place one after the other.\n",
    "\n"
   ]
  },
  {
   "cell_type": "code",
   "execution_count": null,
   "metadata": {},
   "outputs": [],
   "source": [
    "#exports\n",
    "import pandas as pd\n",
    "import xarray as xr\n",
    "import os\n",
    "import glob\n",
    "import dotenv\n",
    "import warnings\n",
    "from dagster import execute_pipeline, pipeline, solid, Field, OutputDefinition, DagsterType, Output\n",
    "\n",
    "from IPython.display import JSON\n",
    "\n",
    "from satip import eumetsat, reproj, io, gcp_helpers\n",
    "from satip.mario import (df_metadata_to_dt_to_fp_map, \n",
    "                         reproject_datasets, \n",
    "                         save_metadata, \n",
    "                         compress_and_save_datasets, \n",
    "                         compress_export_then_delete_raw)"
   ]
  },
  {
   "cell_type": "code",
   "execution_count": null,
   "metadata": {},
   "outputs": [],
   "source": [
    "# Filter some warnings\n",
    "#exports\n",
    "warnings.filterwarnings('ignore', message='divide by zero encountered in true_divide')\n",
    "warnings.filterwarnings('ignore', message='invalid value encountered in sin')\n",
    "warnings.filterwarnings('ignore', message='invalid value encountered in cos')\n",
    "warnings.filterwarnings('ignore', message='invalid value encountered in subtract')\n",
    "warnings.filterwarnings('ignore', message='You will likely lose important projection information when converting to a PROJ string from another format. See: https://proj.org/faq.html#what-is-the-best-format-for-describing-coordinate-reference-systems')"
   ]
  },
  {
   "cell_type": "code",
   "execution_count": null,
   "metadata": {},
   "outputs": [
    {
     "name": "stdout",
     "output_type": "stream",
     "text": [
      "Earliest 2020-01-01 00:00, latest 2020-01-01 01:00\n"
     ]
    },
    {
     "data": {
      "text/html": [
       "<div><span class=\"Text-label\" style=\"display:inline-block; overflow:hidden; white-space:nowrap; text-overflow:ellipsis; min-width:0; max-width:15ex; vertical-align:middle; text-align:right\"></span>\n",
       "<progress style=\"width:60ex\" max=\"1\" value=\"1\" class=\"Progress-main\"/></progress>\n",
       "<span class=\"Progress-label\"><strong>100%</strong></span>\n",
       "<span class=\"Iteration-label\">1/1</span>\n",
       "<span class=\"Time-label\">[00:05<00:05, 4.62s/it]</span></div>"
      ],
      "text/plain": [
       "\u001b[A\u001b[2K\r",
       " [████████████████████████████████████████████████████████████] 1/1 [00:05<00:05, 4.62s/it]"
      ]
     },
     "metadata": {},
     "output_type": "display_data"
    },
    {
     "name": "stdout",
     "output_type": "stream",
     "text": [
      "Found 12 results\n"
     ]
    },
    {
     "data": {
      "application/json": [],
      "text/plain": [
       "<IPython.core.display.JSON object>"
      ]
     },
     "execution_count": null,
     "metadata": {
      "application/json": {
       "expanded": false,
       "root": "root"
      }
     },
     "output_type": "execute_result"
    }
   ],
   "source": [
    "missing_datasets = io.identifying_missing_datasets(\"2020-01-01 00:00\", \"2020-01-01 01:00\")\n",
    "JSON(missing_datasets)"
   ]
  },
  {
   "cell_type": "code",
   "execution_count": null,
   "metadata": {},
   "outputs": [],
   "source": [
    "#exports\n",
    "\n",
    "# create pandas DataFrame type definition for Dagster\n",
    "DataFrame = DagsterType(\n",
    "    name=\"DataFrame\",\n",
    "    type_check_fn=lambda _, x: isinstance(x, pd.DataFrame),\n",
    ")\n",
    "\n",
    "@solid(output_defs=[OutputDefinition(name='df_new_metadata', dagster_type=DataFrame, is_required=False)])\n",
    "def download_missing_eumetsat_files(context, env_vars_fp: str, data_dir: str, metadata_db_fp: str, debug_fp: str, table_id: str, project_id: str, start_date: str='', end_date: str=''):\n",
    "    _ = dotenv.load_dotenv(env_vars_fp)\n",
    "    dm = eumetsat.DownloadManager(os.environ.get('USER_KEY'), os.environ.get('USER_SECRET'), data_dir, metadata_db_fp, debug_fp, slack_webhook_url=os.environ.get('SLACK_WEBHOOK_URL'), slack_id=os.environ.get('SLACK_ID'))\n",
    "    \n",
    "    missing_datasets = io.identifying_missing_datasets(start_date, end_date)\n",
    "    context.log.info(f\"Missing data: {len(missing_datasets)}\")\n",
    "    \n",
    "    df_new_metadata = dm.download_datasets(missing_datasets)\n",
    "\n",
    "    # if df_new_metadata is None, pipeline will skip subsequent solids\n",
    "    if df_new_metadata is None:\n",
    "        context.log.info(\"*******************\")\n",
    "        context.log.info(\"Files already in zarr. Exiting.\")\n",
    "        context.log.info(\"*******************\")\n",
    "        return\n",
    "\n",
    "    yield Output(df_new_metadata, 'df_new_metadata')"
   ]
  },
  {
   "cell_type": "code",
   "execution_count": null,
   "metadata": {},
   "outputs": [],
   "source": [
    "#exports\n",
    "@pipeline\n",
    "def download_missing_data_pipeline():  \n",
    "    # Retrieving data, reprojecting, compressing, and saving to GCP\n",
    "    df_new_metadata = download_missing_eumetsat_files()\n",
    "    datetime_to_filepath = df_metadata_to_dt_to_fp_map(df_new_metadata)\n",
    "    ds_combined_reproj = reproject_datasets(datetime_to_filepath)\n",
    "    ds_combined_compressed = compress_and_save_datasets(ds_combined_reproj)\n",
    "    \n",
    "    ready_to_delete = save_metadata(ds_combined_compressed, df_new_metadata)\n",
    "    compress_export_then_delete_raw(ready_to_delete)"
   ]
  },
  {
   "cell_type": "markdown",
   "metadata": {},
   "source": [
    "Test the configuration and execute the pipeline:"
   ]
  },
  {
   "cell_type": "code",
   "execution_count": null,
   "metadata": {},
   "outputs": [],
   "source": [
    "#hide\n",
    "run_config = {\n",
    "    'solids': {\n",
    "        'download_missing_eumetsat_files': {\n",
    "            'inputs': {\n",
    "                'env_vars_fp': \"../.env\",\n",
    "                'data_dir': \"../data/raw\",\n",
    "                'metadata_db_fp': \"../data/EUMETSAT_metadata.db\",\n",
    "                'debug_fp': \"../logs/EUMETSAT_download.txt\",\n",
    "                'table_id': \"eumetsat.metadata\",\n",
    "                'project_id': \"solar-pv-nowcasting\",\n",
    "                'start_date': \"2019-01-01T00:00:00\",\n",
    "                'end_date': \"2019-01-01T01:00:00\"\n",
    "            },\n",
    "        },\n",
    "        'df_metadata_to_dt_to_fp_map': {\n",
    "            'inputs': {\n",
    "                'data_dir': \"../data/raw\"\n",
    "            }\n",
    "        },\n",
    "        'reproject_datasets': {\n",
    "            'inputs': {\n",
    "                'new_coords_fp': \"../data/intermediate/reproj_coords_TM_4km.csv\",\n",
    "                'new_grid_fp': \"../data/intermediate/new_grid_4km_TM.json\"\n",
    "            }\n",
    "        },\n",
    "        'compress_and_save_datasets': {\n",
    "            'inputs': {\n",
    "                'zarr_bucket': \"solar-pv-nowcasting-data/satellite/EUMETSAT/SEVIRI_RSS/full_extent_TM_int16\",\n",
    "                'var_name': \"stacked_eumetsat_data\"\n",
    "            }\n",
    "        },\n",
    "        'save_metadata': {\n",
    "            'inputs': {\n",
    "                'table_id': \"eumetsat.metadata\",\n",
    "                'project_id': \"solar-pv-nowcasting\"\n",
    "            },\n",
    "        },\n",
    "        'compress_export_then_delete_raw': {\n",
    "            'inputs': {\n",
    "                'data_dir': \"../data/raw\",\n",
    "                'compressed_dir': \"../data/compressed\",\n",
    "                'BUCKET_NAME': \"solar-pv-nowcasting-data\",\n",
    "                'PREFIX': \"satellite/EUMETSAT/SEVIRI_RSS/native/\",\n",
    "                'ready_to_delete': True\n",
    "            },\n",
    "        }\n",
    "    }\n",
    "}"
   ]
  },
  {
   "cell_type": "code",
   "execution_count": null,
   "metadata": {},
   "outputs": [
    {
     "name": "stderr",
     "output_type": "stream",
     "text": [
      "2021-03-06 11:01:11 - dagster - DEBUG - download_missing_data_pipeline - 4ebd32c0-8f9e-4827-a673-29bee44ede05 - 54936 - ENGINE_EVENT - Starting initialization of resources [asset_store].\n",
      "2021-03-06 11:01:11 - dagster - DEBUG - download_missing_data_pipeline - 4ebd32c0-8f9e-4827-a673-29bee44ede05 - 54936 - ENGINE_EVENT - Finished initialization of resources [asset_store].\n",
      "2021-03-06 11:01:11 - dagster - DEBUG - download_missing_data_pipeline - 4ebd32c0-8f9e-4827-a673-29bee44ede05 - 54936 - PIPELINE_START - Started execution of pipeline \"download_missing_data_pipeline\".\n",
      "2021-03-06 11:01:11 - dagster - DEBUG - download_missing_data_pipeline - 4ebd32c0-8f9e-4827-a673-29bee44ede05 - 54936 - ENGINE_EVENT - Executing steps in process (pid: 54936)\n",
      "2021-03-06 11:01:11 - dagster - DEBUG - download_missing_data_pipeline - 4ebd32c0-8f9e-4827-a673-29bee44ede05 - 54936 - download_missing_eumetsat_files.compute - STEP_START - Started execution of step \"download_missing_eumetsat_files.compute\".\n",
      "2021-03-06 11:01:11 - dagster - DEBUG - download_missing_data_pipeline - 4ebd32c0-8f9e-4827-a673-29bee44ede05 - 54936 - download_missing_eumetsat_files.compute - STEP_INPUT - Got input \"env_vars_fp\" of type \"String\". (Type check passed).\n",
      "2021-03-06 11:01:11 - dagster - DEBUG - download_missing_data_pipeline - 4ebd32c0-8f9e-4827-a673-29bee44ede05 - 54936 - download_missing_eumetsat_files.compute - STEP_INPUT - Got input \"data_dir\" of type \"String\". (Type check passed).\n",
      "2021-03-06 11:01:11 - dagster - DEBUG - download_missing_data_pipeline - 4ebd32c0-8f9e-4827-a673-29bee44ede05 - 54936 - download_missing_eumetsat_files.compute - STEP_INPUT - Got input \"metadata_db_fp\" of type \"String\". (Type check passed).\n",
      "2021-03-06 11:01:11 - dagster - DEBUG - download_missing_data_pipeline - 4ebd32c0-8f9e-4827-a673-29bee44ede05 - 54936 - download_missing_eumetsat_files.compute - STEP_INPUT - Got input \"debug_fp\" of type \"String\". (Type check passed).\n",
      "2021-03-06 11:01:11 - dagster - DEBUG - download_missing_data_pipeline - 4ebd32c0-8f9e-4827-a673-29bee44ede05 - 54936 - download_missing_eumetsat_files.compute - STEP_INPUT - Got input \"table_id\" of type \"String\". (Type check passed).\n",
      "2021-03-06 11:01:11 - dagster - DEBUG - download_missing_data_pipeline - 4ebd32c0-8f9e-4827-a673-29bee44ede05 - 54936 - download_missing_eumetsat_files.compute - STEP_INPUT - Got input \"project_id\" of type \"String\". (Type check passed).\n",
      "2021-03-06 11:01:11 - dagster - DEBUG - download_missing_data_pipeline - 4ebd32c0-8f9e-4827-a673-29bee44ede05 - 54936 - download_missing_eumetsat_files.compute - STEP_INPUT - Got input \"start_date\" of type \"String\". (Type check passed).\n",
      "2021-03-06 11:01:11 - dagster - DEBUG - download_missing_data_pipeline - 4ebd32c0-8f9e-4827-a673-29bee44ede05 - 54936 - download_missing_eumetsat_files.compute - STEP_INPUT - Got input \"end_date\" of type \"String\". (Type check passed).\n",
      "2021-03-06 11:01:11,625 - INFO - ********** Download Manager Initialised **************\n",
      "2021-03-06 11:01:11,625 - INFO - ********** Download Manager Initialised **************\n",
      "2021-03-06 11:01:11,625 - INFO - ********** Download Manager Initialised **************\n",
      "2021-03-06 11:01:11,625 - INFO - ********** Download Manager Initialised **************\n",
      "2021-03-06 11:01:11,625 - INFO - ********** Download Manager Initialised **************\n",
      "2021-03-06 11:01:11,625 - INFO - ********** Download Manager Initialised **************\n",
      "2021-03-06 11:01:11,625 - INFO - ********** Download Manager Initialised **************\n",
      "2021-03-06 11:01:11,625 - INFO - ********** Download Manager Initialised **************\n",
      "2021-03-06 11:01:11,625 - INFO - ********** Download Manager Initialised **************\n",
      "2021-03-06 11:01:11,625 - INFO - ********** Download Manager Initialised **************\n"
     ]
    },
    {
     "name": "stdout",
     "output_type": "stream",
     "text": [
      "Earliest 2019-01-01T00:00:00, latest 2019-01-01T01:00:00\n"
     ]
    },
    {
     "data": {
      "text/html": [
       "<div><span class=\"Text-label\" style=\"display:inline-block; overflow:hidden; white-space:nowrap; text-overflow:ellipsis; min-width:0; max-width:15ex; vertical-align:middle; text-align:right\"></span>\n",
       "<progress style=\"width:60ex\" max=\"1\" value=\"1\" class=\"Progress-main\"/></progress>\n",
       "<span class=\"Progress-label\"><strong>100%</strong></span>\n",
       "<span class=\"Iteration-label\">1/1</span>\n",
       "<span class=\"Time-label\">[00:04<00:04, 3.72s/it]</span></div>"
      ],
      "text/plain": [
       "\u001b[A\u001b[2K\r",
       " [████████████████████████████████████████████████████████████] 1/1 [00:04<00:04, 3.72s/it]"
      ]
     },
     "metadata": {},
     "output_type": "display_data"
    },
    {
     "name": "stdout",
     "output_type": "stream",
     "text": [
      "Found 12 results\n"
     ]
    },
    {
     "name": "stderr",
     "output_type": "stream",
     "text": [
      "2021-03-06 11:01:15 - dagster - INFO - system - 4ebd32c0-8f9e-4827-a673-29bee44ede05 - download_missing_eumetsat_files.compute - Missing data: 0\n",
      "2021-03-06 11:01:15,518 - INFO - 0 files queried, 0 found in ../data/raw, 0 to download.\n",
      "2021-03-06 11:01:15,518 - INFO - 0 files queried, 0 found in ../data/raw, 0 to download.\n",
      "2021-03-06 11:01:15,518 - INFO - 0 files queried, 0 found in ../data/raw, 0 to download.\n",
      "2021-03-06 11:01:15,518 - INFO - 0 files queried, 0 found in ../data/raw, 0 to download.\n",
      "2021-03-06 11:01:15,518 - INFO - 0 files queried, 0 found in ../data/raw, 0 to download.\n",
      "2021-03-06 11:01:15,518 - INFO - 0 files queried, 0 found in ../data/raw, 0 to download.\n",
      "2021-03-06 11:01:15,518 - INFO - 0 files queried, 0 found in ../data/raw, 0 to download.\n",
      "2021-03-06 11:01:15,518 - INFO - 0 files queried, 0 found in ../data/raw, 0 to download.\n",
      "2021-03-06 11:01:15,518 - INFO - 0 files queried, 0 found in ../data/raw, 0 to download.\n",
      "2021-03-06 11:01:15,518 - INFO - 0 files queried, 0 found in ../data/raw, 0 to download.\n",
      "2021-03-06 11:01:15,522 - INFO - No files will be downloaded. Set DownloadManager bucket_name argument for local download\n",
      "2021-03-06 11:01:15,522 - INFO - No files will be downloaded. Set DownloadManager bucket_name argument for local download\n",
      "2021-03-06 11:01:15,522 - INFO - No files will be downloaded. Set DownloadManager bucket_name argument for local download\n",
      "2021-03-06 11:01:15,522 - INFO - No files will be downloaded. Set DownloadManager bucket_name argument for local download\n",
      "2021-03-06 11:01:15,522 - INFO - No files will be downloaded. Set DownloadManager bucket_name argument for local download\n",
      "2021-03-06 11:01:15,522 - INFO - No files will be downloaded. Set DownloadManager bucket_name argument for local download\n",
      "2021-03-06 11:01:15,522 - INFO - No files will be downloaded. Set DownloadManager bucket_name argument for local download\n",
      "2021-03-06 11:01:15,522 - INFO - No files will be downloaded. Set DownloadManager bucket_name argument for local download\n",
      "2021-03-06 11:01:15,522 - INFO - No files will be downloaded. Set DownloadManager bucket_name argument for local download\n",
      "2021-03-06 11:01:15,522 - INFO - No files will be downloaded. Set DownloadManager bucket_name argument for local download\n",
      "2021-03-06 11:01:15 - dagster - INFO - system - 4ebd32c0-8f9e-4827-a673-29bee44ede05 - download_missing_eumetsat_files.compute - *******************\n",
      "2021-03-06 11:01:15 - dagster - INFO - system - 4ebd32c0-8f9e-4827-a673-29bee44ede05 - download_missing_eumetsat_files.compute - Files already in zarr. Exiting.\n",
      "2021-03-06 11:01:15 - dagster - INFO - system - 4ebd32c0-8f9e-4827-a673-29bee44ede05 - download_missing_eumetsat_files.compute - *******************\n",
      "2021-03-06 11:01:15 - dagster - INFO - system - 4ebd32c0-8f9e-4827-a673-29bee44ede05 - download_missing_eumetsat_files.compute - Solid download_missing_eumetsat_files did not fire outputs {'df_new_metadata'}\n",
      "2021-03-06 11:01:15 - dagster - DEBUG - download_missing_data_pipeline - 4ebd32c0-8f9e-4827-a673-29bee44ede05 - 54936 - download_missing_eumetsat_files.compute - STEP_SUCCESS - Finished execution of step \"download_missing_eumetsat_files.compute\" in 3.9s.\n",
      "2021-03-06 11:01:15 - dagster - INFO - system - 4ebd32c0-8f9e-4827-a673-29bee44ede05 - df_metadata_to_dt_to_fp_map.compute - Not all inputs covered for df_metadata_to_dt_to_fp_map.compute. Not executing. Output missing for inputs: [StepOutputHandle(step_key='download_missing_eumetsat_files.compute', output_name='df_new_metadata')]\n",
      "2021-03-06 11:01:15 - dagster - DEBUG - download_missing_data_pipeline - 4ebd32c0-8f9e-4827-a673-29bee44ede05 - 54936 - df_metadata_to_dt_to_fp_map.compute - STEP_SKIPPED - Skipped execution of step \"df_metadata_to_dt_to_fp_map.compute\".\n",
      "2021-03-06 11:01:15 - dagster - INFO - system - 4ebd32c0-8f9e-4827-a673-29bee44ede05 - reproject_datasets.compute - Skipping step reproject_datasets.compute due to skipped dependencies: ['df_metadata_to_dt_to_fp_map.compute'].\n",
      "2021-03-06 11:01:15 - dagster - DEBUG - download_missing_data_pipeline - 4ebd32c0-8f9e-4827-a673-29bee44ede05 - 54936 - reproject_datasets.compute - STEP_SKIPPED - Skipped execution of step \"reproject_datasets.compute\".\n",
      "2021-03-06 11:01:15 - dagster - INFO - system - 4ebd32c0-8f9e-4827-a673-29bee44ede05 - compress_and_save_datasets.compute - Skipping step compress_and_save_datasets.compute due to skipped dependencies: ['reproject_datasets.compute'].\n",
      "2021-03-06 11:01:15 - dagster - DEBUG - download_missing_data_pipeline - 4ebd32c0-8f9e-4827-a673-29bee44ede05 - 54936 - compress_and_save_datasets.compute - STEP_SKIPPED - Skipped execution of step \"compress_and_save_datasets.compute\".\n",
      "2021-03-06 11:01:15 - dagster - INFO - system - 4ebd32c0-8f9e-4827-a673-29bee44ede05 - save_metadata.compute - Skipping step save_metadata.compute due to skipped dependencies: ['compress_and_save_datasets.compute'].\n",
      "2021-03-06 11:01:15 - dagster - DEBUG - download_missing_data_pipeline - 4ebd32c0-8f9e-4827-a673-29bee44ede05 - 54936 - save_metadata.compute - STEP_SKIPPED - Skipped execution of step \"save_metadata.compute\".\n",
      "2021-03-06 11:01:15 - dagster - INFO - system - 4ebd32c0-8f9e-4827-a673-29bee44ede05 - compress_export_then_delete_raw.compute - Skipping step compress_export_then_delete_raw.compute due to skipped dependencies: ['save_metadata.compute'].\n",
      "2021-03-06 11:01:15 - dagster - DEBUG - download_missing_data_pipeline - 4ebd32c0-8f9e-4827-a673-29bee44ede05 - 54936 - compress_export_then_delete_raw.compute - STEP_SKIPPED - Skipped execution of step \"compress_export_then_delete_raw.compute\".\n",
      "2021-03-06 11:01:15 - dagster - DEBUG - download_missing_data_pipeline - 4ebd32c0-8f9e-4827-a673-29bee44ede05 - 54936 - ENGINE_EVENT - Finished steps in process (pid: 54936) in 3.92s\n",
      "2021-03-06 11:01:15 - dagster - DEBUG - download_missing_data_pipeline - 4ebd32c0-8f9e-4827-a673-29bee44ede05 - 54936 - PIPELINE_SUCCESS - Finished execution of pipeline \"download_missing_data_pipeline\".\n"
     ]
    },
    {
     "data": {
      "text/plain": [
       "<dagster.core.execution.results.PipelineExecutionResult at 0x7fa0424948e0>"
      ]
     },
     "execution_count": null,
     "metadata": {},
     "output_type": "execute_result"
    }
   ],
   "source": [
    "#hide\n",
    "# if 'download_eumetsat_files' in run_config['solids'].keys():\n",
    "#     run_config['solids']['download_missing_eumetsat_files'] = run_config['solids']['download_eumetsat_files']\n",
    "#     run_config['solids'].pop('download_eumetsat_files')\n",
    "\n",
    "execute_pipeline(download_missing_data_pipeline, run_config=run_config)"
   ]
  },
  {
   "cell_type": "code",
   "execution_count": null,
   "metadata": {},
   "outputs": [],
   "source": [
    "#hide\n",
    "from nbdev.export import *\n",
    "notebook2script('05a_pipeline_batch.ipynb')"
   ]
  },
  {
   "cell_type": "code",
   "execution_count": null,
   "metadata": {},
   "outputs": [],
   "source": []
  }
 ],
 "metadata": {
  "kernelspec": {
   "display_name": "satip_dev",
   "language": "python",
   "name": "satip_dev"
  }
 },
 "nbformat": 4,
 "nbformat_minor": 4
}
