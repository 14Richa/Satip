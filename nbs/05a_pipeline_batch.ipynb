{
 "cells": [
  {
   "cell_type": "code",
   "execution_count": 1,
   "metadata": {},
   "outputs": [],
   "source": [
    "# default_exp backfill"
   ]
  },
  {
   "cell_type": "markdown",
   "metadata": {},
   "source": [
    "# Pipeline for backfilling / batching\n",
    "\n",
    "Dagster can only run one pipeline per module, and `05_pipeline.ipynb` ie `mario.py` already has one pipeline defined for continuous linear retrieval where the steps take place one after the other.\n",
    "\n"
   ]
  },
  {
   "cell_type": "code",
   "execution_count": 12,
   "metadata": {},
   "outputs": [],
   "source": [
    "#exports\n",
    "import pandas as pd\n",
    "import xarray as xr\n",
    "import os\n",
    "import glob\n",
    "import dotenv\n",
    "import warnings\n",
    "from dagster import execute_pipeline, pipeline, solid, Field, OutputDefinition, DagsterType, Output\n",
    "from itertools import islice\n",
    "import shutil\n",
    "\n",
    "from IPython.display import JSON\n",
    "\n",
    "from satip import eumetsat, reproj, io, gcp_helpers\n",
    "from satip.mario import (df_metadata_to_dt_to_fp_map, \n",
    "                         reproject_datasets, \n",
    "                         save_metadata, \n",
    "                         compress_and_save_datasets, \n",
    "                         compress_export_then_delete_raw)"
   ]
  },
  {
   "cell_type": "code",
   "execution_count": 3,
   "metadata": {},
   "outputs": [],
   "source": [
    "# Filter some warnings\n",
    "#exports\n",
    "warnings.filterwarnings('ignore', message='divide by zero encountered in true_divide')\n",
    "warnings.filterwarnings('ignore', message='invalid value encountered in sin')\n",
    "warnings.filterwarnings('ignore', message='invalid value encountered in cos')\n",
    "warnings.filterwarnings('ignore', message='invalid value encountered in subtract')\n",
    "warnings.filterwarnings('ignore', message='You will likely lose important projection information when converting to a PROJ string from another format. See: https://proj.org/faq.html#what-is-the-best-format-for-describing-coordinate-reference-systems')"
   ]
  },
  {
   "cell_type": "code",
   "execution_count": 4,
   "metadata": {},
   "outputs": [
    {
     "name": "stdout",
     "output_type": "stream",
     "text": [
      "Earliest 2020-01-01 00:00, latest 2020-01-01 01:00\n"
     ]
    },
    {
     "data": {
      "text/html": [
       "<div><span class=\"Text-label\" style=\"display:inline-block; overflow:hidden; white-space:nowrap; text-overflow:ellipsis; min-width:0; max-width:15ex; vertical-align:middle; text-align:right\"></span>\n",
       "<progress style=\"width:60ex\" max=\"1\" value=\"1\" class=\"Progress-main\"/></progress>\n",
       "<span class=\"Progress-label\"><strong>100%</strong></span>\n",
       "<span class=\"Iteration-label\">1/1</span>\n",
       "<span class=\"Time-label\">[00:01<00:01, 1.38s/it]</span></div>"
      ],
      "text/plain": [
       "\u001b[A\u001b[2K\r",
       " [████████████████████████████████████████████████████████████] 1/1 [00:01<00:01, 1.38s/it]"
      ]
     },
     "metadata": {},
     "output_type": "display_data"
    },
    {
     "name": "stdout",
     "output_type": "stream",
     "text": [
      "identify_available_datasets: found 12 results from API\n"
     ]
    },
    {
     "data": {
      "application/json": [
       {
        "geometry": {},
        "id": "MSG3-SEVI-MSG15-0100-NA-20200101005916.726000000Z-NA",
        "properties": {
         "acquisitionInformation": [
          {
           "instrument": {
            "instrumentShortName": "SEVIRI"
           },
           "platform": {
            "platformShortName": "MSG3"
           }
          }
         ],
         "date": "2020-01-01T00:55:10.306Z/2020-01-01T00:59:16.726Z",
         "identifier": "MSG3-SEVI-MSG15-0100-NA-20200101005916.726000000Z-NA",
         "links": {
          "alternates": [
           {
            "href": "https://api.eumetsat.int/data/download/products/MSG3-SEVI-MSG15-0100-NA-20200101005916.726000000Z-NA/metadata",
            "mediaType": "application/xml",
            "title": "Metadata",
            "type": "Link"
           },
           {
            "href": "https://api.eumetsat.int/data/download/products/MSG3-SEVI-MSG15-0100-NA-20200101005916.726000000Z-NA/metadata?format=json",
            "mediaType": "application/json",
            "title": "Metadata in JSON format",
            "type": "Link"
           }
          ],
          "data": [
           {
            "href": "https://api.eumetsat.int/data/download/products/MSG3-SEVI-MSG15-0100-NA-20200101005916.726000000Z-NA",
            "mediaType": "application/zip",
            "title": "Product download",
            "type": "Link"
           }
          ],
          "previews": [
           {
            "href": "https://api.eumetsat.int/data/download/products/MSG3-SEVI-MSG15-0100-NA-20200101005916.726000000Z-NA/browse",
            "mediaType": "image/jpeg",
            "title": "Quicklook",
            "type": "Link"
           }
          ],
          "sip-entries": [
           {
            "href": "https://api.eumetsat.int/data/download/products/MSG3-SEVI-MSG15-0100-NA-20200101005916.726000000Z-NA/entry?name=MSG3-SEVI-MSG15-0100-NA-20200101005916.726000000Z-NA.nat",
            "mediaType": "application/octet-stream",
            "title": "MSG3-SEVI-MSG15-0100-NA-20200101005916.726000000Z-NA.nat",
            "type": "Link"
           },
           {
            "href": "https://api.eumetsat.int/data/download/products/MSG3-SEVI-MSG15-0100-NA-20200101005916.726000000Z-NA/entry?name=manifest.xml",
            "mediaType": "application/xml",
            "title": "manifest.xml",
            "type": "Link"
           },
           {
            "href": "https://api.eumetsat.int/data/download/products/MSG3-SEVI-MSG15-0100-NA-20200101005916.726000000Z-NA/entry?name=EOPMetadata.xml",
            "mediaType": "application/xml",
            "title": "EOPMetadata.xml",
            "type": "Link"
           }
          ],
          "type": "Links"
         },
         "parentIdentifier": "EO:EUM:DAT:MSG:MSG15-RSS",
         "productInformation": {
          "productType": "MSG15",
          "size": 36409,
          "timeliness": "NOMINAL"
         },
         "title": "MSG3-SEVI-MSG15-0100-NA-20200101005916.726000000Z-NA",
         "updated": "2020-01-01T00:55:10.306Z"
        },
        "type": "Feature"
       },
       {
        "geometry": {},
        "id": "MSG3-SEVI-MSG15-0100-NA-20200101005416.815000000Z-NA",
        "properties": {
         "acquisitionInformation": [
          {
           "instrument": {
            "instrumentShortName": "SEVIRI"
           },
           "platform": {
            "platformShortName": "MSG3"
           }
          }
         ],
         "date": "2020-01-01T00:50:10.395Z/2020-01-01T00:54:16.815Z",
         "identifier": "MSG3-SEVI-MSG15-0100-NA-20200101005416.815000000Z-NA",
         "links": {
          "alternates": [
           {
            "href": "https://api.eumetsat.int/data/download/products/MSG3-SEVI-MSG15-0100-NA-20200101005416.815000000Z-NA/metadata",
            "mediaType": "application/xml",
            "title": "Metadata",
            "type": "Link"
           },
           {
            "href": "https://api.eumetsat.int/data/download/products/MSG3-SEVI-MSG15-0100-NA-20200101005416.815000000Z-NA/metadata?format=json",
            "mediaType": "application/json",
            "title": "Metadata in JSON format",
            "type": "Link"
           }
          ],
          "data": [
           {
            "href": "https://api.eumetsat.int/data/download/products/MSG3-SEVI-MSG15-0100-NA-20200101005416.815000000Z-NA",
            "mediaType": "application/zip",
            "title": "Product download",
            "type": "Link"
           }
          ],
          "previews": [
           {
            "href": "https://api.eumetsat.int/data/download/products/MSG3-SEVI-MSG15-0100-NA-20200101005416.815000000Z-NA/browse",
            "mediaType": "image/jpeg",
            "title": "Quicklook",
            "type": "Link"
           }
          ],
          "sip-entries": [
           {
            "href": "https://api.eumetsat.int/data/download/products/MSG3-SEVI-MSG15-0100-NA-20200101005416.815000000Z-NA/entry?name=MSG3-SEVI-MSG15-0100-NA-20200101005416.815000000Z-NA.nat",
            "mediaType": "application/octet-stream",
            "title": "MSG3-SEVI-MSG15-0100-NA-20200101005416.815000000Z-NA.nat",
            "type": "Link"
           },
           {
            "href": "https://api.eumetsat.int/data/download/products/MSG3-SEVI-MSG15-0100-NA-20200101005416.815000000Z-NA/entry?name=EOPMetadata.xml",
            "mediaType": "application/xml",
            "title": "EOPMetadata.xml",
            "type": "Link"
           },
           {
            "href": "https://api.eumetsat.int/data/download/products/MSG3-SEVI-MSG15-0100-NA-20200101005416.815000000Z-NA/entry?name=manifest.xml",
            "mediaType": "application/xml",
            "title": "manifest.xml",
            "type": "Link"
           }
          ],
          "type": "Links"
         },
         "parentIdentifier": "EO:EUM:DAT:MSG:MSG15-RSS",
         "productInformation": {
          "productType": "MSG15",
          "size": 36458,
          "timeliness": "NOMINAL"
         },
         "title": "MSG3-SEVI-MSG15-0100-NA-20200101005416.815000000Z-NA",
         "updated": "2020-01-01T00:50:10.395Z"
        },
        "type": "Feature"
       },
       {
        "geometry": {},
        "id": "MSG3-SEVI-MSG15-0100-NA-20200101004916.904000000Z-NA",
        "properties": {
         "acquisitionInformation": [
          {
           "instrument": {
            "instrumentShortName": "SEVIRI"
           },
           "platform": {
            "platformShortName": "MSG3"
           }
          }
         ],
         "date": "2020-01-01T00:45:10.485Z/2020-01-01T00:49:16.904Z",
         "identifier": "MSG3-SEVI-MSG15-0100-NA-20200101004916.904000000Z-NA",
         "links": {
          "alternates": [
           {
            "href": "https://api.eumetsat.int/data/download/products/MSG3-SEVI-MSG15-0100-NA-20200101004916.904000000Z-NA/metadata",
            "mediaType": "application/xml",
            "title": "Metadata",
            "type": "Link"
           },
           {
            "href": "https://api.eumetsat.int/data/download/products/MSG3-SEVI-MSG15-0100-NA-20200101004916.904000000Z-NA/metadata?format=json",
            "mediaType": "application/json",
            "title": "Metadata in JSON format",
            "type": "Link"
           }
          ],
          "data": [
           {
            "href": "https://api.eumetsat.int/data/download/products/MSG3-SEVI-MSG15-0100-NA-20200101004916.904000000Z-NA",
            "mediaType": "application/zip",
            "title": "Product download",
            "type": "Link"
           }
          ],
          "previews": [
           {
            "href": "https://api.eumetsat.int/data/download/products/MSG3-SEVI-MSG15-0100-NA-20200101004916.904000000Z-NA/browse",
            "mediaType": "image/jpeg",
            "title": "Quicklook",
            "type": "Link"
           }
          ],
          "sip-entries": [
           {
            "href": "https://api.eumetsat.int/data/download/products/MSG3-SEVI-MSG15-0100-NA-20200101004916.904000000Z-NA/entry?name=EOPMetadata.xml",
            "mediaType": "application/xml",
            "title": "EOPMetadata.xml",
            "type": "Link"
           },
           {
            "href": "https://api.eumetsat.int/data/download/products/MSG3-SEVI-MSG15-0100-NA-20200101004916.904000000Z-NA/entry?name=MSG3-SEVI-MSG15-0100-NA-20200101004916.904000000Z-NA.nat",
            "mediaType": "application/octet-stream",
            "title": "MSG3-SEVI-MSG15-0100-NA-20200101004916.904000000Z-NA.nat",
            "type": "Link"
           },
           {
            "href": "https://api.eumetsat.int/data/download/products/MSG3-SEVI-MSG15-0100-NA-20200101004916.904000000Z-NA/entry?name=manifest.xml",
            "mediaType": "application/xml",
            "title": "manifest.xml",
            "type": "Link"
           }
          ],
          "type": "Links"
         },
         "parentIdentifier": "EO:EUM:DAT:MSG:MSG15-RSS",
         "productInformation": {
          "productType": "MSG15",
          "size": 36460,
          "timeliness": "NOMINAL"
         },
         "title": "MSG3-SEVI-MSG15-0100-NA-20200101004916.904000000Z-NA",
         "updated": "2020-01-01T00:45:10.485Z"
        },
        "type": "Feature"
       },
       {
        "geometry": {},
        "id": "MSG3-SEVI-MSG15-0100-NA-20200101004416.993000000Z-NA",
        "properties": {
         "acquisitionInformation": [
          {
           "instrument": {
            "instrumentShortName": "SEVIRI"
           },
           "platform": {
            "platformShortName": "MSG3"
           }
          }
         ],
         "date": "2020-01-01T00:40:10.574Z/2020-01-01T00:44:16.993Z",
         "identifier": "MSG3-SEVI-MSG15-0100-NA-20200101004416.993000000Z-NA",
         "links": {
          "alternates": [
           {
            "href": "https://api.eumetsat.int/data/download/products/MSG3-SEVI-MSG15-0100-NA-20200101004416.993000000Z-NA/metadata",
            "mediaType": "application/xml",
            "title": "Metadata",
            "type": "Link"
           },
           {
            "href": "https://api.eumetsat.int/data/download/products/MSG3-SEVI-MSG15-0100-NA-20200101004416.993000000Z-NA/metadata?format=json",
            "mediaType": "application/json",
            "title": "Metadata in JSON format",
            "type": "Link"
           }
          ],
          "data": [
           {
            "href": "https://api.eumetsat.int/data/download/products/MSG3-SEVI-MSG15-0100-NA-20200101004416.993000000Z-NA",
            "mediaType": "application/zip",
            "title": "Product download",
            "type": "Link"
           }
          ],
          "previews": [
           {
            "href": "https://api.eumetsat.int/data/download/products/MSG3-SEVI-MSG15-0100-NA-20200101004416.993000000Z-NA/browse",
            "mediaType": "image/jpeg",
            "title": "Quicklook",
            "type": "Link"
           }
          ],
          "sip-entries": [
           {
            "href": "https://api.eumetsat.int/data/download/products/MSG3-SEVI-MSG15-0100-NA-20200101004416.993000000Z-NA/entry?name=MSG3-SEVI-MSG15-0100-NA-20200101004416.993000000Z-NA.nat",
            "mediaType": "application/octet-stream",
            "title": "MSG3-SEVI-MSG15-0100-NA-20200101004416.993000000Z-NA.nat",
            "type": "Link"
           },
           {
            "href": "https://api.eumetsat.int/data/download/products/MSG3-SEVI-MSG15-0100-NA-20200101004416.993000000Z-NA/entry?name=EOPMetadata.xml",
            "mediaType": "application/xml",
            "title": "EOPMetadata.xml",
            "type": "Link"
           },
           {
            "href": "https://api.eumetsat.int/data/download/products/MSG3-SEVI-MSG15-0100-NA-20200101004416.993000000Z-NA/entry?name=manifest.xml",
            "mediaType": "application/xml",
            "title": "manifest.xml",
            "type": "Link"
           }
          ],
          "type": "Links"
         },
         "parentIdentifier": "EO:EUM:DAT:MSG:MSG15-RSS",
         "productInformation": {
          "productType": "MSG15",
          "size": 36390,
          "timeliness": "NOMINAL"
         },
         "title": "MSG3-SEVI-MSG15-0100-NA-20200101004416.993000000Z-NA",
         "updated": "2020-01-01T00:40:10.574Z"
        },
        "type": "Feature"
       },
       {
        "geometry": {},
        "id": "MSG3-SEVI-MSG15-0100-NA-20200101003917.083000000Z-NA",
        "properties": {
         "acquisitionInformation": [
          {
           "instrument": {
            "instrumentShortName": "SEVIRI"
           },
           "platform": {
            "platformShortName": "MSG3"
           }
          }
         ],
         "date": "2020-01-01T00:35:10.663Z/2020-01-01T00:39:17.083Z",
         "identifier": "MSG3-SEVI-MSG15-0100-NA-20200101003917.083000000Z-NA",
         "links": {
          "alternates": [
           {
            "href": "https://api.eumetsat.int/data/download/products/MSG3-SEVI-MSG15-0100-NA-20200101003917.083000000Z-NA/metadata",
            "mediaType": "application/xml",
            "title": "Metadata",
            "type": "Link"
           },
           {
            "href": "https://api.eumetsat.int/data/download/products/MSG3-SEVI-MSG15-0100-NA-20200101003917.083000000Z-NA/metadata?format=json",
            "mediaType": "application/json",
            "title": "Metadata in JSON format",
            "type": "Link"
           }
          ],
          "data": [
           {
            "href": "https://api.eumetsat.int/data/download/products/MSG3-SEVI-MSG15-0100-NA-20200101003917.083000000Z-NA",
            "mediaType": "application/zip",
            "title": "Product download",
            "type": "Link"
           }
          ],
          "previews": [
           {
            "href": "https://api.eumetsat.int/data/download/products/MSG3-SEVI-MSG15-0100-NA-20200101003917.083000000Z-NA/browse",
            "mediaType": "image/jpeg",
            "title": "Quicklook",
            "type": "Link"
           }
          ],
          "sip-entries": [
           {
            "href": "https://api.eumetsat.int/data/download/products/MSG3-SEVI-MSG15-0100-NA-20200101003917.083000000Z-NA/entry?name=EOPMetadata.xml",
            "mediaType": "application/xml",
            "title": "EOPMetadata.xml",
            "type": "Link"
           },
           {
            "href": "https://api.eumetsat.int/data/download/products/MSG3-SEVI-MSG15-0100-NA-20200101003917.083000000Z-NA/entry?name=manifest.xml",
            "mediaType": "application/xml",
            "title": "manifest.xml",
            "type": "Link"
           },
           {
            "href": "https://api.eumetsat.int/data/download/products/MSG3-SEVI-MSG15-0100-NA-20200101003917.083000000Z-NA/entry?name=MSG3-SEVI-MSG15-0100-NA-20200101003917.083000000Z-NA.nat",
            "mediaType": "application/octet-stream",
            "title": "MSG3-SEVI-MSG15-0100-NA-20200101003917.083000000Z-NA.nat",
            "type": "Link"
           }
          ],
          "type": "Links"
         },
         "parentIdentifier": "EO:EUM:DAT:MSG:MSG15-RSS",
         "productInformation": {
          "productType": "MSG15",
          "size": 36304,
          "timeliness": "NOMINAL"
         },
         "title": "MSG3-SEVI-MSG15-0100-NA-20200101003917.083000000Z-NA",
         "updated": "2020-01-01T00:35:10.663Z"
        },
        "type": "Feature"
       },
       {
        "geometry": {},
        "id": "MSG3-SEVI-MSG15-0100-NA-20200101003417.172000000Z-NA",
        "properties": {
         "acquisitionInformation": [
          {
           "instrument": {
            "instrumentShortName": "SEVIRI"
           },
           "platform": {
            "platformShortName": "MSG3"
           }
          }
         ],
         "date": "2020-01-01T00:30:10.752Z/2020-01-01T00:34:17.172Z",
         "identifier": "MSG3-SEVI-MSG15-0100-NA-20200101003417.172000000Z-NA",
         "links": {
          "alternates": [
           {
            "href": "https://api.eumetsat.int/data/download/products/MSG3-SEVI-MSG15-0100-NA-20200101003417.172000000Z-NA/metadata",
            "mediaType": "application/xml",
            "title": "Metadata",
            "type": "Link"
           },
           {
            "href": "https://api.eumetsat.int/data/download/products/MSG3-SEVI-MSG15-0100-NA-20200101003417.172000000Z-NA/metadata?format=json",
            "mediaType": "application/json",
            "title": "Metadata in JSON format",
            "type": "Link"
           }
          ],
          "data": [
           {
            "href": "https://api.eumetsat.int/data/download/products/MSG3-SEVI-MSG15-0100-NA-20200101003417.172000000Z-NA",
            "mediaType": "application/zip",
            "title": "Product download",
            "type": "Link"
           }
          ],
          "previews": [
           {
            "href": "https://api.eumetsat.int/data/download/products/MSG3-SEVI-MSG15-0100-NA-20200101003417.172000000Z-NA/browse",
            "mediaType": "image/jpeg",
            "title": "Quicklook",
            "type": "Link"
           }
          ],
          "sip-entries": [
           {
            "href": "https://api.eumetsat.int/data/download/products/MSG3-SEVI-MSG15-0100-NA-20200101003417.172000000Z-NA/entry?name=manifest.xml",
            "mediaType": "application/xml",
            "title": "manifest.xml",
            "type": "Link"
           },
           {
            "href": "https://api.eumetsat.int/data/download/products/MSG3-SEVI-MSG15-0100-NA-20200101003417.172000000Z-NA/entry?name=MSG3-SEVI-MSG15-0100-NA-20200101003417.172000000Z-NA.nat",
            "mediaType": "application/octet-stream",
            "title": "MSG3-SEVI-MSG15-0100-NA-20200101003417.172000000Z-NA.nat",
            "type": "Link"
           },
           {
            "href": "https://api.eumetsat.int/data/download/products/MSG3-SEVI-MSG15-0100-NA-20200101003417.172000000Z-NA/entry?name=EOPMetadata.xml",
            "mediaType": "application/xml",
            "title": "EOPMetadata.xml",
            "type": "Link"
           }
          ],
          "type": "Links"
         },
         "parentIdentifier": "EO:EUM:DAT:MSG:MSG15-RSS",
         "productInformation": {
          "productType": "MSG15",
          "size": 36292,
          "timeliness": "NOMINAL"
         },
         "title": "MSG3-SEVI-MSG15-0100-NA-20200101003417.172000000Z-NA",
         "updated": "2020-01-01T00:30:10.752Z"
        },
        "type": "Feature"
       },
       {
        "geometry": {},
        "id": "MSG3-SEVI-MSG15-0100-NA-20200101002917.261000000Z-NA",
        "properties": {
         "acquisitionInformation": [
          {
           "instrument": {
            "instrumentShortName": "SEVIRI"
           },
           "platform": {
            "platformShortName": "MSG3"
           }
          }
         ],
         "date": "2020-01-01T00:25:10.842Z/2020-01-01T00:29:17.261Z",
         "identifier": "MSG3-SEVI-MSG15-0100-NA-20200101002917.261000000Z-NA",
         "links": {
          "alternates": [
           {
            "href": "https://api.eumetsat.int/data/download/products/MSG3-SEVI-MSG15-0100-NA-20200101002917.261000000Z-NA/metadata",
            "mediaType": "application/xml",
            "title": "Metadata",
            "type": "Link"
           },
           {
            "href": "https://api.eumetsat.int/data/download/products/MSG3-SEVI-MSG15-0100-NA-20200101002917.261000000Z-NA/metadata?format=json",
            "mediaType": "application/json",
            "title": "Metadata in JSON format",
            "type": "Link"
           }
          ],
          "data": [
           {
            "href": "https://api.eumetsat.int/data/download/products/MSG3-SEVI-MSG15-0100-NA-20200101002917.261000000Z-NA",
            "mediaType": "application/zip",
            "title": "Product download",
            "type": "Link"
           }
          ],
          "previews": [
           {
            "href": "https://api.eumetsat.int/data/download/products/MSG3-SEVI-MSG15-0100-NA-20200101002917.261000000Z-NA/browse",
            "mediaType": "image/jpeg",
            "title": "Quicklook",
            "type": "Link"
           }
          ],
          "sip-entries": [
           {
            "href": "https://api.eumetsat.int/data/download/products/MSG3-SEVI-MSG15-0100-NA-20200101002917.261000000Z-NA/entry?name=MSG3-SEVI-MSG15-0100-NA-20200101002917.261000000Z-NA.nat",
            "mediaType": "application/octet-stream",
            "title": "MSG3-SEVI-MSG15-0100-NA-20200101002917.261000000Z-NA.nat",
            "type": "Link"
           },
           {
            "href": "https://api.eumetsat.int/data/download/products/MSG3-SEVI-MSG15-0100-NA-20200101002917.261000000Z-NA/entry?name=EOPMetadata.xml",
            "mediaType": "application/xml",
            "title": "EOPMetadata.xml",
            "type": "Link"
           },
           {
            "href": "https://api.eumetsat.int/data/download/products/MSG3-SEVI-MSG15-0100-NA-20200101002917.261000000Z-NA/entry?name=manifest.xml",
            "mediaType": "application/xml",
            "title": "manifest.xml",
            "type": "Link"
           }
          ],
          "type": "Links"
         },
         "parentIdentifier": "EO:EUM:DAT:MSG:MSG15-RSS",
         "productInformation": {
          "productType": "MSG15",
          "size": 36299,
          "timeliness": "NOMINAL"
         },
         "title": "MSG3-SEVI-MSG15-0100-NA-20200101002917.261000000Z-NA",
         "updated": "2020-01-01T00:25:10.842Z"
        },
        "type": "Feature"
       },
       {
        "geometry": {},
        "id": "MSG3-SEVI-MSG15-0100-NA-20200101002417.350000000Z-NA",
        "properties": {
         "acquisitionInformation": [
          {
           "instrument": {
            "instrumentShortName": "SEVIRI"
           },
           "platform": {
            "platformShortName": "MSG3"
           }
          }
         ],
         "date": "2020-01-01T00:20:10.931Z/2020-01-01T00:24:17.35Z",
         "identifier": "MSG3-SEVI-MSG15-0100-NA-20200101002417.350000000Z-NA",
         "links": {
          "alternates": [
           {
            "href": "https://api.eumetsat.int/data/download/products/MSG3-SEVI-MSG15-0100-NA-20200101002417.350000000Z-NA/metadata",
            "mediaType": "application/xml",
            "title": "Metadata",
            "type": "Link"
           },
           {
            "href": "https://api.eumetsat.int/data/download/products/MSG3-SEVI-MSG15-0100-NA-20200101002417.350000000Z-NA/metadata?format=json",
            "mediaType": "application/json",
            "title": "Metadata in JSON format",
            "type": "Link"
           }
          ],
          "data": [
           {
            "href": "https://api.eumetsat.int/data/download/products/MSG3-SEVI-MSG15-0100-NA-20200101002417.350000000Z-NA",
            "mediaType": "application/zip",
            "title": "Product download",
            "type": "Link"
           }
          ],
          "previews": [
           {
            "href": "https://api.eumetsat.int/data/download/products/MSG3-SEVI-MSG15-0100-NA-20200101002417.350000000Z-NA/browse",
            "mediaType": "image/jpeg",
            "title": "Quicklook",
            "type": "Link"
           }
          ],
          "sip-entries": [
           {
            "href": "https://api.eumetsat.int/data/download/products/MSG3-SEVI-MSG15-0100-NA-20200101002417.350000000Z-NA/entry?name=MSG3-SEVI-MSG15-0100-NA-20200101002417.350000000Z-NA.nat",
            "mediaType": "application/octet-stream",
            "title": "MSG3-SEVI-MSG15-0100-NA-20200101002417.350000000Z-NA.nat",
            "type": "Link"
           },
           {
            "href": "https://api.eumetsat.int/data/download/products/MSG3-SEVI-MSG15-0100-NA-20200101002417.350000000Z-NA/entry?name=manifest.xml",
            "mediaType": "application/xml",
            "title": "manifest.xml",
            "type": "Link"
           },
           {
            "href": "https://api.eumetsat.int/data/download/products/MSG3-SEVI-MSG15-0100-NA-20200101002417.350000000Z-NA/entry?name=EOPMetadata.xml",
            "mediaType": "application/xml",
            "title": "EOPMetadata.xml",
            "type": "Link"
           }
          ],
          "type": "Links"
         },
         "parentIdentifier": "EO:EUM:DAT:MSG:MSG15-RSS",
         "productInformation": {
          "productType": "MSG15",
          "size": 36308,
          "timeliness": "NOMINAL"
         },
         "title": "MSG3-SEVI-MSG15-0100-NA-20200101002417.350000000Z-NA",
         "updated": "2020-01-01T00:20:10.931Z"
        },
        "type": "Feature"
       },
       {
        "geometry": {},
        "id": "MSG3-SEVI-MSG15-0100-NA-20200101001917.440000000Z-NA",
        "properties": {
         "acquisitionInformation": [
          {
           "instrument": {
            "instrumentShortName": "SEVIRI"
           },
           "platform": {
            "platformShortName": "MSG3"
           }
          }
         ],
         "date": "2020-01-01T00:15:11.021Z/2020-01-01T00:19:17.44Z",
         "identifier": "MSG3-SEVI-MSG15-0100-NA-20200101001917.440000000Z-NA",
         "links": {
          "alternates": [
           {
            "href": "https://api.eumetsat.int/data/download/products/MSG3-SEVI-MSG15-0100-NA-20200101001917.440000000Z-NA/metadata",
            "mediaType": "application/xml",
            "title": "Metadata",
            "type": "Link"
           },
           {
            "href": "https://api.eumetsat.int/data/download/products/MSG3-SEVI-MSG15-0100-NA-20200101001917.440000000Z-NA/metadata?format=json",
            "mediaType": "application/json",
            "title": "Metadata in JSON format",
            "type": "Link"
           }
          ],
          "data": [
           {
            "href": "https://api.eumetsat.int/data/download/products/MSG3-SEVI-MSG15-0100-NA-20200101001917.440000000Z-NA",
            "mediaType": "application/zip",
            "title": "Product download",
            "type": "Link"
           }
          ],
          "previews": [
           {
            "href": "https://api.eumetsat.int/data/download/products/MSG3-SEVI-MSG15-0100-NA-20200101001917.440000000Z-NA/browse",
            "mediaType": "image/jpeg",
            "title": "Quicklook",
            "type": "Link"
           }
          ],
          "sip-entries": [
           {
            "href": "https://api.eumetsat.int/data/download/products/MSG3-SEVI-MSG15-0100-NA-20200101001917.440000000Z-NA/entry?name=EOPMetadata.xml",
            "mediaType": "application/xml",
            "title": "EOPMetadata.xml",
            "type": "Link"
           },
           {
            "href": "https://api.eumetsat.int/data/download/products/MSG3-SEVI-MSG15-0100-NA-20200101001917.440000000Z-NA/entry?name=manifest.xml",
            "mediaType": "application/xml",
            "title": "manifest.xml",
            "type": "Link"
           },
           {
            "href": "https://api.eumetsat.int/data/download/products/MSG3-SEVI-MSG15-0100-NA-20200101001917.440000000Z-NA/entry?name=MSG3-SEVI-MSG15-0100-NA-20200101001917.440000000Z-NA.nat",
            "mediaType": "application/octet-stream",
            "title": "MSG3-SEVI-MSG15-0100-NA-20200101001917.440000000Z-NA.nat",
            "type": "Link"
           }
          ],
          "type": "Links"
         },
         "parentIdentifier": "EO:EUM:DAT:MSG:MSG15-RSS",
         "productInformation": {
          "productType": "MSG15",
          "size": 36322,
          "timeliness": "NOMINAL"
         },
         "title": "MSG3-SEVI-MSG15-0100-NA-20200101001917.440000000Z-NA",
         "updated": "2020-01-01T00:15:11.021Z"
        },
        "type": "Feature"
       },
       {
        "geometry": {},
        "id": "MSG3-SEVI-MSG15-0100-NA-20200101001416.328000000Z-NA",
        "properties": {
         "acquisitionInformation": [
          {
           "instrument": {
            "instrumentShortName": "SEVIRI"
           },
           "platform": {
            "platformShortName": "MSG3"
           }
          }
         ],
         "date": "2020-01-01T00:10:09.908Z/2020-01-01T00:14:16.328Z",
         "identifier": "MSG3-SEVI-MSG15-0100-NA-20200101001416.328000000Z-NA",
         "links": {
          "alternates": [
           {
            "href": "https://api.eumetsat.int/data/download/products/MSG3-SEVI-MSG15-0100-NA-20200101001416.328000000Z-NA/metadata",
            "mediaType": "application/xml",
            "title": "Metadata",
            "type": "Link"
           },
           {
            "href": "https://api.eumetsat.int/data/download/products/MSG3-SEVI-MSG15-0100-NA-20200101001416.328000000Z-NA/metadata?format=json",
            "mediaType": "application/json",
            "title": "Metadata in JSON format",
            "type": "Link"
           }
          ],
          "data": [
           {
            "href": "https://api.eumetsat.int/data/download/products/MSG3-SEVI-MSG15-0100-NA-20200101001416.328000000Z-NA",
            "mediaType": "application/zip",
            "title": "Product download",
            "type": "Link"
           }
          ],
          "previews": [
           {
            "href": "https://api.eumetsat.int/data/download/products/MSG3-SEVI-MSG15-0100-NA-20200101001416.328000000Z-NA/browse",
            "mediaType": "image/jpeg",
            "title": "Quicklook",
            "type": "Link"
           }
          ],
          "sip-entries": [
           {
            "href": "https://api.eumetsat.int/data/download/products/MSG3-SEVI-MSG15-0100-NA-20200101001416.328000000Z-NA/entry?name=manifest.xml",
            "mediaType": "application/xml",
            "title": "manifest.xml",
            "type": "Link"
           },
           {
            "href": "https://api.eumetsat.int/data/download/products/MSG3-SEVI-MSG15-0100-NA-20200101001416.328000000Z-NA/entry?name=MSG3-SEVI-MSG15-0100-NA-20200101001416.328000000Z-NA.nat",
            "mediaType": "application/octet-stream",
            "title": "MSG3-SEVI-MSG15-0100-NA-20200101001416.328000000Z-NA.nat",
            "type": "Link"
           },
           {
            "href": "https://api.eumetsat.int/data/download/products/MSG3-SEVI-MSG15-0100-NA-20200101001416.328000000Z-NA/entry?name=EOPMetadata.xml",
            "mediaType": "application/xml",
            "title": "EOPMetadata.xml",
            "type": "Link"
           }
          ],
          "type": "Links"
         },
         "parentIdentifier": "EO:EUM:DAT:MSG:MSG15-RSS",
         "productInformation": {
          "productType": "MSG15",
          "size": 36301,
          "timeliness": "NOMINAL"
         },
         "title": "MSG3-SEVI-MSG15-0100-NA-20200101001416.328000000Z-NA",
         "updated": "2020-01-01T00:10:09.908Z"
        },
        "type": "Feature"
       },
       {
        "geometry": {},
        "id": "MSG3-SEVI-MSG15-0100-NA-20200101000915.215000000Z-NA",
        "properties": {
         "acquisitionInformation": [
          {
           "instrument": {
            "instrumentShortName": "SEVIRI"
           },
           "platform": {
            "platformShortName": "MSG3"
           }
          }
         ],
         "date": "2020-01-01T00:05:08.795Z/2020-01-01T00:09:15.215Z",
         "identifier": "MSG3-SEVI-MSG15-0100-NA-20200101000915.215000000Z-NA",
         "links": {
          "alternates": [
           {
            "href": "https://api.eumetsat.int/data/download/products/MSG3-SEVI-MSG15-0100-NA-20200101000915.215000000Z-NA/metadata",
            "mediaType": "application/xml",
            "title": "Metadata",
            "type": "Link"
           },
           {
            "href": "https://api.eumetsat.int/data/download/products/MSG3-SEVI-MSG15-0100-NA-20200101000915.215000000Z-NA/metadata?format=json",
            "mediaType": "application/json",
            "title": "Metadata in JSON format",
            "type": "Link"
           }
          ],
          "data": [
           {
            "href": "https://api.eumetsat.int/data/download/products/MSG3-SEVI-MSG15-0100-NA-20200101000915.215000000Z-NA",
            "mediaType": "application/zip",
            "title": "Product download",
            "type": "Link"
           }
          ],
          "previews": [
           {
            "href": "https://api.eumetsat.int/data/download/products/MSG3-SEVI-MSG15-0100-NA-20200101000915.215000000Z-NA/browse",
            "mediaType": "image/jpeg",
            "title": "Quicklook",
            "type": "Link"
           }
          ],
          "sip-entries": [
           {
            "href": "https://api.eumetsat.int/data/download/products/MSG3-SEVI-MSG15-0100-NA-20200101000915.215000000Z-NA/entry?name=MSG3-SEVI-MSG15-0100-NA-20200101000915.215000000Z-NA.nat",
            "mediaType": "application/octet-stream",
            "title": "MSG3-SEVI-MSG15-0100-NA-20200101000915.215000000Z-NA.nat",
            "type": "Link"
           },
           {
            "href": "https://api.eumetsat.int/data/download/products/MSG3-SEVI-MSG15-0100-NA-20200101000915.215000000Z-NA/entry?name=EOPMetadata.xml",
            "mediaType": "application/xml",
            "title": "EOPMetadata.xml",
            "type": "Link"
           },
           {
            "href": "https://api.eumetsat.int/data/download/products/MSG3-SEVI-MSG15-0100-NA-20200101000915.215000000Z-NA/entry?name=manifest.xml",
            "mediaType": "application/xml",
            "title": "manifest.xml",
            "type": "Link"
           }
          ],
          "type": "Links"
         },
         "parentIdentifier": "EO:EUM:DAT:MSG:MSG15-RSS",
         "productInformation": {
          "productType": "MSG15",
          "size": 36243,
          "timeliness": "NOMINAL"
         },
         "title": "MSG3-SEVI-MSG15-0100-NA-20200101000915.215000000Z-NA",
         "updated": "2020-01-01T00:05:08.795Z"
        },
        "type": "Feature"
       },
       {
        "geometry": {},
        "id": "MSG3-SEVI-MSG15-0100-NA-20200101000414.102000000Z-NA",
        "properties": {
         "acquisitionInformation": [
          {
           "instrument": {
            "instrumentShortName": "SEVIRI"
           },
           "platform": {
            "platformShortName": "MSG3"
           }
          }
         ],
         "date": "2020-01-01T00:00:07.683Z/2020-01-01T00:04:14.102Z",
         "identifier": "MSG3-SEVI-MSG15-0100-NA-20200101000414.102000000Z-NA",
         "links": {
          "alternates": [
           {
            "href": "https://api.eumetsat.int/data/download/products/MSG3-SEVI-MSG15-0100-NA-20200101000414.102000000Z-NA/metadata",
            "mediaType": "application/xml",
            "title": "Metadata",
            "type": "Link"
           },
           {
            "href": "https://api.eumetsat.int/data/download/products/MSG3-SEVI-MSG15-0100-NA-20200101000414.102000000Z-NA/metadata?format=json",
            "mediaType": "application/json",
            "title": "Metadata in JSON format",
            "type": "Link"
           }
          ],
          "data": [
           {
            "href": "https://api.eumetsat.int/data/download/products/MSG3-SEVI-MSG15-0100-NA-20200101000414.102000000Z-NA",
            "mediaType": "application/zip",
            "title": "Product download",
            "type": "Link"
           }
          ],
          "previews": [
           {
            "href": "https://api.eumetsat.int/data/download/products/MSG3-SEVI-MSG15-0100-NA-20200101000414.102000000Z-NA/browse",
            "mediaType": "image/jpeg",
            "title": "Quicklook",
            "type": "Link"
           }
          ],
          "sip-entries": [
           {
            "href": "https://api.eumetsat.int/data/download/products/MSG3-SEVI-MSG15-0100-NA-20200101000414.102000000Z-NA/entry?name=EOPMetadata.xml",
            "mediaType": "application/xml",
            "title": "EOPMetadata.xml",
            "type": "Link"
           },
           {
            "href": "https://api.eumetsat.int/data/download/products/MSG3-SEVI-MSG15-0100-NA-20200101000414.102000000Z-NA/entry?name=manifest.xml",
            "mediaType": "application/xml",
            "title": "manifest.xml",
            "type": "Link"
           },
           {
            "href": "https://api.eumetsat.int/data/download/products/MSG3-SEVI-MSG15-0100-NA-20200101000414.102000000Z-NA/entry?name=MSG3-SEVI-MSG15-0100-NA-20200101000414.102000000Z-NA.nat",
            "mediaType": "application/octet-stream",
            "title": "MSG3-SEVI-MSG15-0100-NA-20200101000414.102000000Z-NA.nat",
            "type": "Link"
           }
          ],
          "type": "Links"
         },
         "parentIdentifier": "EO:EUM:DAT:MSG:MSG15-RSS",
         "productInformation": {
          "productType": "MSG15",
          "size": 36187,
          "timeliness": "NOMINAL"
         },
         "title": "MSG3-SEVI-MSG15-0100-NA-20200101000414.102000000Z-NA",
         "updated": "2020-01-01T00:00:07.683Z"
        },
        "type": "Feature"
       }
      ],
      "text/plain": [
       "<IPython.core.display.JSON object>"
      ]
     },
     "execution_count": 4,
     "metadata": {
      "application/json": {
       "expanded": false,
       "root": "root"
      }
     },
     "output_type": "execute_result"
    }
   ],
   "source": [
    "eumetsat_zarr_bucket='solar-pv-nowcasting-data/satellite/EUMETSAT/SEVIRI_RSS/zarr_full_extent_TM_int16'\n",
    "missing_datasets = io.identifying_missing_datasets(\"2020-01-01 00:00\", \"2020-01-01 01:00\", eumetsat_zarr_bucket=eumetsat_zarr_bucket)\n",
    "JSON(missing_datasets)"
   ]
  },
  {
   "cell_type": "code",
   "execution_count": 5,
   "metadata": {},
   "outputs": [],
   "source": [
    "#exports\n",
    "def chunks(data, SIZE=10000):\n",
    "    \"\"\"Turn dict into iterator of length SIZE chunks\"\"\"\n",
    "    it = iter(data)\n",
    "    for i in range(0, len(data), SIZE):\n",
    "        yield {k:data[k] for k in islice(it, SIZE)}"
   ]
  },
  {
   "cell_type": "code",
   "execution_count": 6,
   "metadata": {},
   "outputs": [],
   "source": [
    "#exports\n",
    "\n",
    "# create pandas DataFrame type definition for Dagster\n",
    "DataFrame = DagsterType(\n",
    "    name=\"DataFrame\",\n",
    "    type_check_fn=lambda _, x: isinstance(x, pd.DataFrame),\n",
    ")\n",
    "\n",
    "@solid(output_defs=[OutputDefinition(name='df_new_metadata', dagster_type=DataFrame, is_required=False)])\n",
    "def download_missing_eumetsat_files(context, env_vars_fp: str, data_dir: str, metadata_db_fp: str, debug_fp: str, table_id: str, project_id: str, start_date: str='', end_date: str=''):\n",
    "    _ = dotenv.load_dotenv(env_vars_fp)\n",
    "    dm = eumetsat.DownloadManager(os.environ.get('USER_KEY'), os.environ.get('USER_SECRET'), data_dir, metadata_db_fp, debug_fp, slack_webhook_url=os.environ.get('SLACK_WEBHOOK_URL'), slack_id=os.environ.get('SLACK_ID'))\n",
    "    \n",
    "    missing_datasets = io.identifying_missing_datasets(start_date, end_date)\n",
    "    context.log.info(f\"Missing data: {len(missing_datasets)}\")\n",
    "    \n",
    "    df_new_metadata = dm.download_datasets(missing_datasets)\n",
    "\n",
    "    # if df_new_metadata is None, pipeline will skip subsequent solids\n",
    "    if df_new_metadata is None:\n",
    "        context.log.info(\"*******************\")\n",
    "        context.log.info(\"Files already in zarr. Exiting.\")\n",
    "        context.log.info(\"*******************\")\n",
    "        return\n",
    "\n",
    "    yield Output(df_new_metadata, 'df_new_metadata')"
   ]
  },
  {
   "cell_type": "code",
   "execution_count": 7,
   "metadata": {},
   "outputs": [],
   "source": [
    "#exports\n",
    "@solid()\n",
    "def reproject_compress_save_datasets_batch(_, datetime_to_filepath: dict, new_coords_fp: str, new_grid_fp: str, zarr_bucket: str, var_name: str='stacked_eumetsat_data'):\n",
    "    \"\"\"Batch up the reprojection and saving to zarr steps\n",
    "    \n",
    "    xAarray concat or some other processing step gives memory crashes beyond around 1hr of time range\n",
    "    which is around 12 file items\n",
    "    \"\"\"\n",
    "    # datetime_to_filepath -> batches\n",
    "    batch_size = 10\n",
    "    batches = [i for i in chunks(datetime_to_filepath, batch_size)]\n",
    "    \n",
    "    for batch in batches:\n",
    "        reprojector = reproj.Reprojector(new_coords_fp, new_grid_fp)\n",
    "\n",
    "        reprojected_dss = [\n",
    "            (reprojector\n",
    "             .reproject(filepath, reproj_library='pyresample')\n",
    "             .pipe(io.add_constant_coord_to_da, 'time', pd.to_datetime(datetime))\n",
    "            )\n",
    "            for datetime, filepath \n",
    "            in batch.items()\n",
    "        ]\n",
    "\n",
    "        if len(reprojected_dss) > 0:\n",
    "            ds_combined_reproj = xr.concat(reprojected_dss, 'time', coords='all', data_vars='all')\n",
    "        else:\n",
    "            print(\"compress_and_save_datasets: No new data to save to zarr\")\n",
    "            return\n",
    "\n",
    "        # Compressing the datasets\n",
    "        compressor = io.Compressor()\n",
    "\n",
    "        var_name = var_name\n",
    "        da_compressed = compressor.compress(ds_combined_reproj[var_name])\n",
    "\n",
    "        # Saving to Zarr\n",
    "        ds_compressed = io.save_da_to_zarr(da_compressed, zarr_bucket)\n",
    "\n",
    "    # fine to just return last one, we are just checking it exists\n",
    "    return ds_compressed\n",
    "\n",
    "\n",
    "@solid()\n",
    "def save_metadata_batch(context, ds_combined_compressed, df_new_metadata, table_id: str, project_id: str):\n",
    "    if ds_combined_compressed is not None:\n",
    "        if df_new_metadata.shape[0] > 0:\n",
    "            gcp_helpers.write_metadata_to_gcp(df_new_metadata, table_id, project_id, append=True)\n",
    "            context.log.info(f'{df_new_metadata.shape[0]} new metadata entries were added')\n",
    "        else:\n",
    "            context.log.info('No metadata was available to be added')     \n",
    "    return True\n",
    "\n",
    "@solid()\n",
    "def compress_export_then_delete_raw_batch(context, ready_to_delete, data_dir: str, compressed_dir: str, BUCKET_NAME: str='solar-pv-nowcasting-data', PREFIX: str='satellite/EUMETSAT/SEVIRI_RSS/native/'):\n",
    "    if ready_to_delete == True:\n",
    "        eumetsat.compress_downloaded_files(data_dir=data_dir, compressed_dir=compressed_dir, log=context.log)\n",
    "        eumetsat.upload_compressed_files(compressed_dir, BUCKET_NAME=BUCKET_NAME, PREFIX=PREFIX, log=None)\n",
    "        \n",
    "        for dir_ in [data_dir, compressed_dir]:\n",
    "            context.log.info(f'Removing directory {dir_}')\n",
    "            shutil.rmtree(dir_)\n",
    "            os.mkdir(dir_) # recreate empty folder"
   ]
  },
  {
   "cell_type": "code",
   "execution_count": 8,
   "metadata": {},
   "outputs": [],
   "source": [
    "#exports\n",
    "@pipeline\n",
    "def download_missing_data_pipeline():  \n",
    "    # Retrieving data, reprojecting, compressing, and saving to GCP\n",
    "    df_new_metadata = download_missing_eumetsat_files()\n",
    "    datetime_to_filepath = df_metadata_to_dt_to_fp_map(df_new_metadata)\n",
    "    \n",
    "    last_batch_compressed = reproject_compress_save_datasets_batch(datetime_to_filepath)\n",
    "    \n",
    "    ready_to_delete = save_metadata_batch(last_batch_compressed, df_new_metadata)\n",
    "    compress_export_then_delete_raw_batch(ready_to_delete)"
   ]
  },
  {
   "cell_type": "markdown",
   "metadata": {},
   "source": [
    "`datetime_to_filepath` is a dict, looking like:  \n",
    "`{Timestamp(): str`  "
   ]
  },
  {
   "cell_type": "code",
   "execution_count": 9,
   "metadata": {},
   "outputs": [],
   "source": [
    "# e.g\n",
    "# {Timestamp('2019-04-01 00:04:19.045000+0000', tz='UTC'): '../data/raw_bfill/MSG3-SEVI-MSG15-0100-NA-20190401000419.045000000Z-NA.nat'}"
   ]
  },
  {
   "cell_type": "markdown",
   "metadata": {},
   "source": [
    "Test the configuration and execute the pipeline:"
   ]
  },
  {
   "cell_type": "code",
   "execution_count": 16,
   "metadata": {},
   "outputs": [],
   "source": [
    "#hide\n",
    "run_config = {\n",
    "    'solids': {\n",
    "        'download_missing_eumetsat_files': {\n",
    "            'inputs': {\n",
    "                'env_vars_fp': \"../.env\",\n",
    "                'data_dir': \"../data/raw_bfill\",\n",
    "                'metadata_db_fp': \"../data/EUMETSAT_metadata.db\",\n",
    "                'debug_fp': \"../logs/EUMETSAT_download.txt\",\n",
    "                'table_id': \"eumetsat.metadata\",\n",
    "                'project_id': \"solar-pv-nowcasting\",\n",
    "                'start_date': \"2019-04-01T00:00:00\",\n",
    "                'end_date': \"2019-04-01T05:00:00\"\n",
    "            },\n",
    "        },\n",
    "        'df_metadata_to_dt_to_fp_map': {\n",
    "            'inputs': {\n",
    "                'data_dir': \"../data/raw_bfill\"\n",
    "            }\n",
    "        },\n",
    "        'reproject_compress_save_datasets_batch': {\n",
    "            'inputs': {\n",
    "                'new_coords_fp': \"../data/intermediate/reproj_coords_TM_4km.csv\",\n",
    "                'new_grid_fp': \"../data/intermediate/new_grid_4km_TM.json\",\n",
    "                'zarr_bucket': \"solar-pv-nowcasting-data/satellite/EUMETSAT/SEVIRI_RSS/zarr_full_extent_TM_int16\",\n",
    "                'var_name': \"stacked_eumetsat_data\"\n",
    "            }\n",
    "        },\n",
    "        'save_metadata_batch': {\n",
    "            'inputs': {\n",
    "                'table_id': \"eumetsat.metadata\",\n",
    "                'project_id': \"solar-pv-nowcasting\"\n",
    "            },\n",
    "        },\n",
    "        'compress_export_then_delete_raw_batch': {\n",
    "            'inputs': {\n",
    "                'BUCKET_NAME': \"solar-pv-nowcasting-data\",\n",
    "                'PREFIX': \"satellite/EUMETSAT/SEVIRI_RSS/native/\",\n",
    "                'data_dir': \"../data/raw_bfill\",\n",
    "                'compressed_dir': \"../data/compressed_bfill\",\n",
    "            },\n",
    "        }\n",
    "    }\n",
    "}"
   ]
  },
  {
   "cell_type": "code",
   "execution_count": 19,
   "metadata": {},
   "outputs": [],
   "source": [
    "#hide\n",
    "# if 'download_eumetsat_files' in run_config['solids'].keys():\n",
    "#     run_config['solids']['download_missing_eumetsat_files'] = run_config['solids']['download_eumetsat_files']\n",
    "#     run_config['solids'].pop('download_eumetsat_files')\n",
    "\n",
    "# execute_pipeline(download_missing_data_pipeline, run_config=run_config)"
   ]
  },
  {
   "cell_type": "code",
   "execution_count": 18,
   "metadata": {},
   "outputs": [
    {
     "name": "stdout",
     "output_type": "stream",
     "text": [
      "Converted 05a_pipeline_batch.ipynb.\n"
     ]
    }
   ],
   "source": [
    "#hide\n",
    "from nbdev.export import *\n",
    "notebook2script('05a_pipeline_batch.ipynb')"
   ]
  }
 ],
 "metadata": {
  "kernelspec": {
   "display_name": "satip_dev",
   "language": "python",
   "name": "satip_dev"
  },
  "language_info": {
   "codemirror_mode": {
    "name": "ipython",
    "version": 3
   },
   "file_extension": ".py",
   "mimetype": "text/x-python",
   "name": "python",
   "nbconvert_exporter": "python",
   "pygments_lexer": "ipython3",
   "version": "3.8.8"
  }
 },
 "nbformat": 4,
 "nbformat_minor": 4
}
