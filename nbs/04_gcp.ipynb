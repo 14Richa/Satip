{
 "cells": [
  {
   "cell_type": "code",
   "execution_count": null,
   "metadata": {},
   "outputs": [],
   "source": [
    "# default_exp gcp_helpers"
   ]
  },
  {
   "cell_type": "markdown",
   "metadata": {},
   "source": [
    "# EUMETSAT and GCP \n",
    "\n",
    "The intention is to run a DAG using Google Cloud Composer that:  \n",
    "\n",
    "1. Uses the EUMETSAT DownloadManager will check for available files over a time period.  \n",
    "2. Compares with already downloaded files in a GCP bucket\n",
    "3. Downloads any files not already downloaded, compressed using `pbzip2`\n",
    "\n",
    "Run on europe-west4 (Netherlands) by preference.  \n",
    "\n",
    "Our bucket and an example folder prefix is defined below.  \n",
    "\n",
    "The data is stored in the format `gs://solar-pv-nowcasting-data/satellite/EUMETSAT/SEVIRI_RSS/native/<year>/<month>/<day>/<hour>/<minute>/` as per the existing files."
   ]
  },
  {
   "cell_type": "markdown",
   "metadata": {},
   "source": [
    "### Setup"
   ]
  },
  {
   "cell_type": "code",
   "execution_count": 3,
   "metadata": {},
   "outputs": [],
   "source": [
    "#export\n",
    "from google.cloud import storage\n",
    "import pandas as pd\n",
    "import matplotlib.pyplot as plt\n",
    "import seaborn as sns\n",
    "import os\n",
    "import re\n",
    "import dotenv\n",
    "import pandas_gbq"
   ]
  },
  {
   "cell_type": "markdown",
   "metadata": {},
   "source": [
    "## Some GCP Helpers\n",
    "\n",
    "First need a couple of helper functions to work with Google Cloud Platform.  \n",
    "Ideally the principles will transfer easily to other cloud providers if necessary. "
   ]
  },
  {
   "cell_type": "code",
   "execution_count": 4,
   "metadata": {},
   "outputs": [],
   "source": [
    "#export \n",
    "def list_blobs_with_prefix(bucket_name, prefix, delimiter=None):\n",
    "    \"\"\"Lists all the blobs in the bucket that begin with the prefix.\n",
    "\n",
    "    This can be used to list all blobs in a \"folder\", e.g. \"public/\".\n",
    "\n",
    "    The delimiter argument can be used to restrict the results to only the\n",
    "    \"files\" in the given \"folder\". Without the delimiter, the entire tree under\n",
    "    the prefix is returned. For example, given these blobs:\n",
    "\n",
    "        a/1.txt\n",
    "        a/b/2.txt\n",
    "\n",
    "    If you just specify prefix = 'a', you'll get back:\n",
    "\n",
    "        a/1.txt\n",
    "        a/b/2.txt\n",
    "\n",
    "    However, if you specify prefix='a' and delimiter='/', you'll get back:\n",
    "\n",
    "        a/1.txt\n",
    "\n",
    "    Additionally, the same request will return blobs.prefixes populated with:\n",
    "\n",
    "        a/b/\n",
    "    \"\"\"\n",
    "\n",
    "    storage_client = storage.Client()\n",
    "\n",
    "    # Note: Client.list_blobs requires at least package version 1.17.0.\n",
    "    blobs = storage_client.list_blobs(bucket_name, prefix=prefix, delimiter=delimiter)\n",
    "\n",
    "    names = []\n",
    "\n",
    "    for blob in blobs:\n",
    "        names.append(blob.name)\n",
    "    return names\n",
    "\n",
    "\n",
    "def blob_metadata(bucket_name, blob_name):\n",
    "    \"\"\"Prints out a blob's metadata.\"\"\"\n",
    "    # bucket_name = 'your-bucket-name'\n",
    "    # blob_name = 'your-object-name'\n",
    "\n",
    "    storage_client = storage.Client()\n",
    "    bucket = storage_client.bucket(bucket_name)\n",
    "    blob = bucket.get_blob(blob_name)\n",
    "\n",
    "    print(\"Blob: {}\".format(blob.name))\n",
    "    print(\"Bucket: {}\".format(blob.bucket.name))\n",
    "    print(\"Storage class: {}\".format(blob.storage_class))\n",
    "    print(\"ID: {}\".format(blob.id))\n",
    "    print(\"Size: {} bytes\".format(blob.size))\n",
    "    print(\"Updated: {}\".format(blob.updated))\n",
    "    print(\"Generation: {}\".format(blob.generation))\n",
    "    print(\"Metageneration: {}\".format(blob.metageneration))\n",
    "    print(\"Etag: {}\".format(blob.etag))\n",
    "    print(\"Owner: {}\".format(blob.owner))\n",
    "    print(\"Component count: {}\".format(blob.component_count))\n",
    "    print(\"Crc32c: {}\".format(blob.crc32c))\n",
    "    print(\"md5_hash: {}\".format(blob.md5_hash))\n",
    "    print(\"Cache-control: {}\".format(blob.cache_control))\n",
    "    print(\"Content-type: {}\".format(blob.content_type))\n",
    "    print(\"Content-disposition: {}\".format(blob.content_disposition))\n",
    "    print(\"Content-encoding: {}\".format(blob.content_encoding))\n",
    "    print(\"Content-language: {}\".format(blob.content_language))\n",
    "    print(\"Metadata: {}\".format(blob.metadata))"
   ]
  },
  {
   "cell_type": "code",
   "execution_count": 5,
   "metadata": {},
   "outputs": [],
   "source": [
    "#export\n",
    "def upload_blob(bucket_name, source_file_name, destination_blob_name, prefix=None, log=None):\n",
    "    \"\"\"Uploads a file to the bucket.\"\"\"\n",
    "    # bucket_name = \"your-bucket-name\"\n",
    "    # source_file_name = \"local/path/to/file\"\n",
    "    # destination_blob_name = \"storage-object-name\"\n",
    "\n",
    "    if prefix:\n",
    "        destination_blob_name = prefix + destination_blob_name\n",
    "    \n",
    "    storage_client = storage.Client()\n",
    "    bucket = storage_client.bucket(bucket_name)\n",
    "    blob = bucket.blob(destination_blob_name)\n",
    "\n",
    "    # For slow upload speed\n",
    "    storage.blob._DEFAULT_CHUNKSIZE = 2097152 # 1024 * 1024 B * 2 = 2 MB\n",
    "    storage.blob._MAX_MULTIPART_SIZE = 2097152 # 2 MB\n",
    "    \n",
    "    blob.upload_from_filename(source_file_name)\n",
    "\n",
    "    print(\n",
    "        \"File {} uploaded to {}.\".format(\n",
    "            source_file_name, destination_blob_name\n",
    "        )\n",
    "    )\n",
    "    if log:\n",
    "        log.info(\"File {} uploaded to {}.\".format(\n",
    "                source_file_name, destination_blob_name\n",
    "            )\n",
    "        )"
   ]
  },
  {
   "cell_type": "markdown",
   "metadata": {},
   "source": [
    "## User input\n",
    "\n",
    "Finding out how much data has been downloaded for different years in the OCF native data bucket."
   ]
  },
  {
   "cell_type": "code",
   "execution_count": 9,
   "metadata": {},
   "outputs": [],
   "source": [
    "BUCKET_NAME = \"solar-pv-nowcasting-data\"\n",
    "PREFIX = \"satellite/EUMETSAT/SEVIRI_RSS/native/2019/01/01\""
   ]
  },
  {
   "cell_type": "code",
   "execution_count": 10,
   "metadata": {},
   "outputs": [],
   "source": [
    "blobs = list_blobs_with_prefix(BUCKET_NAME, prefix=PREFIX)"
   ]
  },
  {
   "cell_type": "code",
   "execution_count": 11,
   "metadata": {},
   "outputs": [
    {
     "name": "stdout",
     "output_type": "stream",
     "text": [
      "There are 277 files\n"
     ]
    }
   ],
   "source": [
    "print(f'There are {len(blobs)} files')"
   ]
  },
  {
   "cell_type": "code",
   "execution_count": 12,
   "metadata": {},
   "outputs": [
    {
     "data": {
      "text/plain": [
       "['satellite/EUMETSAT/SEVIRI_RSS/native/2019/01/01/00/04/MSG3-SEVI-MSG15-0100-NA-20190101000417.314000000Z-20190101000435-1377854-1.nat.bz2',\n",
       " 'satellite/EUMETSAT/SEVIRI_RSS/native/2019/01/01/00/09/MSG3-SEVI-MSG15-0100-NA-20190101000917.390000000Z-20190101000935-1377854-1.nat.bz2',\n",
       " 'satellite/EUMETSAT/SEVIRI_RSS/native/2019/01/01/00/14/MSG3-SEVI-MSG15-0100-NA-20190101001417.466000000Z-20190101001435-1377854-1.nat.bz2',\n",
       " 'satellite/EUMETSAT/SEVIRI_RSS/native/2019/01/01/00/19/MSG3-SEVI-MSG15-0100-NA-20190101001917.542000000Z-20190101001935-1377854-1.nat.bz2',\n",
       " 'satellite/EUMETSAT/SEVIRI_RSS/native/2019/01/01/00/24/MSG3-SEVI-MSG15-0100-NA-20190101002417.618000000Z-20190101002436-1377854-1.nat.bz2',\n",
       " 'satellite/EUMETSAT/SEVIRI_RSS/native/2019/01/01/00/29/MSG3-SEVI-MSG15-0100-NA-20190101002917.694000000Z-20190101002935-1377854-1.nat.bz2',\n",
       " 'satellite/EUMETSAT/SEVIRI_RSS/native/2019/01/01/00/34/MSG3-SEVI-MSG15-0100-NA-20190101003417.770000000Z-20190101003435-1377854-1.nat.bz2',\n",
       " 'satellite/EUMETSAT/SEVIRI_RSS/native/2019/01/01/00/39/MSG3-SEVI-MSG15-0100-NA-20190101003917.846000000Z-20190101003935-1377854-1.nat.bz2',\n",
       " 'satellite/EUMETSAT/SEVIRI_RSS/native/2019/01/01/00/44/MSG3-SEVI-MSG15-0100-NA-20190101004417.922000000Z-20190101004435-1377854-1.nat.bz2',\n",
       " 'satellite/EUMETSAT/SEVIRI_RSS/native/2019/01/01/00/49/MSG3-SEVI-MSG15-0100-NA-20190101004917.998000000Z-20190101004935-1377854-1.nat.bz2']"
      ]
     },
     "execution_count": 12,
     "metadata": {},
     "output_type": "execute_result"
    }
   ],
   "source": [
    "blobs[:10]"
   ]
  },
  {
   "cell_type": "markdown",
   "metadata": {},
   "source": [
    "Lets see how large the data for the whole of 2018 is - this may take a few minutes to run. "
   ]
  },
  {
   "cell_type": "code",
   "execution_count": 13,
   "metadata": {},
   "outputs": [],
   "source": [
    "storage_client = storage.Client()\n",
    "PREFIX = \"satellite/EUMETSAT/SEVIRI_RSS/native/2018/\"\n",
    "\n",
    "# Note: Client.list_blobs requires at least package version 1.17.0.\n",
    "blobs_ = storage_client.list_blobs(BUCKET_NAME, prefix=PREFIX)\n",
    "\n",
    "sizes = []\n",
    "\n",
    "for blob in blobs_:\n",
    "    sizes.append(blob.size)"
   ]
  },
  {
   "cell_type": "code",
   "execution_count": 14,
   "metadata": {},
   "outputs": [
    {
     "data": {
      "text/plain": [
       "2443.493799523"
      ]
     },
     "execution_count": 14,
     "metadata": {},
     "output_type": "execute_result"
    }
   ],
   "source": [
    "sum(sizes) / 1e9"
   ]
  },
  {
   "cell_type": "markdown",
   "metadata": {},
   "source": [
    "2018 contains 2.4TB of data"
   ]
  },
  {
   "cell_type": "markdown",
   "metadata": {},
   "source": [
    "Note that using the storage client to return blobs returns an iterable of blob metadata objects.  \n",
    "From those we've extracted the names. We can go backwards from the names to interact with the blobs. "
   ]
  },
  {
   "cell_type": "code",
   "execution_count": 15,
   "metadata": {},
   "outputs": [],
   "source": [
    "df = pd.DataFrame(blobs, columns=['blobs'])\n",
    "df = df[df['blobs'].str.endswith('.nat.bz2')] # only compressed data files\n",
    "df['datetime'] = pd.to_datetime(df['blobs'].str.slice(start=37, stop=53), format=\"%Y/%m/%d/%H/%M\")"
   ]
  },
  {
   "cell_type": "code",
   "execution_count": 16,
   "metadata": {},
   "outputs": [],
   "source": [
    "months_in_order = ['January', 'February', 'March', 'April', 'May', 'June', 'July', 'August', 'September', 'October', 'November', 'December']"
   ]
  },
  {
   "cell_type": "code",
   "execution_count": 17,
   "metadata": {},
   "outputs": [
    {
     "data": {
      "text/html": [
       "<div>\n",
       "<style scoped>\n",
       "    .dataframe tbody tr th:only-of-type {\n",
       "        vertical-align: middle;\n",
       "    }\n",
       "\n",
       "    .dataframe tbody tr th {\n",
       "        vertical-align: top;\n",
       "    }\n",
       "\n",
       "    .dataframe thead th {\n",
       "        text-align: right;\n",
       "    }\n",
       "</style>\n",
       "<table border=\"1\" class=\"dataframe\">\n",
       "  <thead>\n",
       "    <tr style=\"text-align: right;\">\n",
       "      <th>year</th>\n",
       "      <th>2019</th>\n",
       "    </tr>\n",
       "    <tr>\n",
       "      <th>month</th>\n",
       "      <th></th>\n",
       "    </tr>\n",
       "  </thead>\n",
       "  <tbody>\n",
       "    <tr>\n",
       "      <th>January</th>\n",
       "      <td>276.0</td>\n",
       "    </tr>\n",
       "    <tr>\n",
       "      <th>February</th>\n",
       "      <td>NaN</td>\n",
       "    </tr>\n",
       "    <tr>\n",
       "      <th>March</th>\n",
       "      <td>NaN</td>\n",
       "    </tr>\n",
       "    <tr>\n",
       "      <th>April</th>\n",
       "      <td>NaN</td>\n",
       "    </tr>\n",
       "    <tr>\n",
       "      <th>May</th>\n",
       "      <td>NaN</td>\n",
       "    </tr>\n",
       "    <tr>\n",
       "      <th>June</th>\n",
       "      <td>NaN</td>\n",
       "    </tr>\n",
       "    <tr>\n",
       "      <th>July</th>\n",
       "      <td>NaN</td>\n",
       "    </tr>\n",
       "    <tr>\n",
       "      <th>August</th>\n",
       "      <td>NaN</td>\n",
       "    </tr>\n",
       "    <tr>\n",
       "      <th>September</th>\n",
       "      <td>NaN</td>\n",
       "    </tr>\n",
       "    <tr>\n",
       "      <th>October</th>\n",
       "      <td>NaN</td>\n",
       "    </tr>\n",
       "    <tr>\n",
       "      <th>November</th>\n",
       "      <td>NaN</td>\n",
       "    </tr>\n",
       "    <tr>\n",
       "      <th>December</th>\n",
       "      <td>NaN</td>\n",
       "    </tr>\n",
       "  </tbody>\n",
       "</table>\n",
       "</div>"
      ],
      "text/plain": [
       "year        2019\n",
       "month           \n",
       "January    276.0\n",
       "February     NaN\n",
       "March        NaN\n",
       "April        NaN\n",
       "May          NaN\n",
       "June         NaN\n",
       "July         NaN\n",
       "August       NaN\n",
       "September    NaN\n",
       "October      NaN\n",
       "November     NaN\n",
       "December     NaN"
      ]
     },
     "execution_count": 17,
     "metadata": {},
     "output_type": "execute_result"
    }
   ],
   "source": [
    "blobs_by_month = df\\\n",
    "        .assign(year=lambda x: x['datetime'].dt.year)\\\n",
    "        .assign(month=lambda x: x['datetime'].dt.month_name())\\\n",
    "        .groupby(['month', 'year']).count()['blobs'].to_frame()\\\n",
    "        .reset_index()\\\n",
    "        .pivot(index='month', columns='year', values='blobs')\\\n",
    "        .reindex(months_in_order)\n",
    "\n",
    "blobs_by_month"
   ]
  },
  {
   "cell_type": "code",
   "execution_count": 18,
   "metadata": {},
   "outputs": [
    {
     "data": {
      "image/png": "[encoded data removed]",
      "text/plain": [
       "<Figure size 720x792 with 2 Axes>"
      ]
     },
     "metadata": {
      "needs_background": "light"
     },
     "output_type": "display_data"
    }
   ],
   "source": [
    "# credit: https://dfrieds.com/data-visualizations/visualize-historical-time-comparisons.html\n",
    "\n",
    "figure, axes = plt.subplots(figsize=(10, 11))\n",
    "sns.heatmap(blobs_by_month, annot=True, linewidths=.5, ax=axes, cmap=\"Greys\")\n",
    "axes.axes.set_title(\"Count of .nat.bz files in Storage by Month and Year\", fontsize=20, y=1.01)\n",
    "axes.axes.set_ylabel(\"month\", labelpad=50, rotation=0)\n",
    "axes.axes.set_xlabel(\"year\", labelpad=16);\n",
    "plt.yticks(rotation=0);"
   ]
  },
  {
   "cell_type": "code",
   "execution_count": 124,
   "metadata": {},
   "outputs": [],
   "source": [
    "filenames = df['blobs'].str.split('/').str[-1].str.replace('.bz2', '')"
   ]
  },
  {
   "cell_type": "code",
   "execution_count": 125,
   "metadata": {},
   "outputs": [
    {
     "data": {
      "text/plain": [
       "1         MSG3-SEVI-MSG15-0100-NA-20180531000417.2340000...\n",
       "2         MSG3-SEVI-MSG15-0100-NA-20180531000917.4680000...\n",
       "3         MSG3-SEVI-MSG15-0100-NA-20180531001417.7010000...\n",
       "4         MSG3-SEVI-MSG15-0100-NA-20180531001917.9350000...\n",
       "5         MSG3-SEVI-MSG15-0100-NA-20180531002416.3640000...\n",
       "                                ...                        \n",
       "170664    MSG3-SEVI-MSG15-0100-NA-20191231233418.2450000...\n",
       "170665    MSG3-SEVI-MSG15-0100-NA-20191231233916.9530000...\n",
       "170666    MSG3-SEVI-MSG15-0100-NA-20191231234415.6620000...\n",
       "170667    MSG3-SEVI-MSG15-0100-NA-20191231234914.3700000...\n",
       "170668    MSG3-SEVI-MSG15-0100-NA-20191231235414.2810000...\n",
       "Name: blobs, Length: 170667, dtype: object"
      ]
     },
     "execution_count": 125,
     "metadata": {},
     "output_type": "execute_result"
    }
   ],
   "source": [
    "filenames"
   ]
  },
  {
   "cell_type": "code",
   "execution_count": 11,
   "metadata": {},
   "outputs": [],
   "source": [
    "#export\n",
    "def get_eumetsat_filenames(bucket_name, prefix, delimiter=None):\n",
    "    \"\"\"Lists all the blobs in the bucket that begin with the prefix.\n",
    "\n",
    "    This can be used to list all blobs in a \"folder\", e.g. \"public/\".\n",
    "\n",
    "    The delimiter argument can be used to restrict the results to only the\n",
    "    \"files\" in the given \"folder\". Without the delimiter, the entire tree under\n",
    "    the prefix is returned. For example, given these blobs:\n",
    "\n",
    "    \"\"\"\n",
    "\n",
    "    storage_client = storage.Client()\n",
    "\n",
    "    # Note: Client.list_blobs requires at least package version 1.17.0.\n",
    "    blobs = storage_client.list_blobs(bucket_name, prefix=prefix, delimiter=delimiter)\n",
    "\n",
    "    names = []\n",
    "\n",
    "    for blob in blobs:\n",
    "        if blob.name.endswith('.nat.bz2'):\n",
    "            filename = blob.name.split('/')[-1].replace('.bz2', '')\n",
    "            names.append(filename)\n",
    "    return names"
   ]
  },
  {
   "cell_type": "code",
   "execution_count": 12,
   "metadata": {},
   "outputs": [],
   "source": [
    "PREFIX = \"satellite/EUMETSAT/SEVIRI_RSS/native/2019/10/01\"\n",
    "filenames = get_eumetsat_filenames(BUCKET_NAME, prefix=PREFIX)"
   ]
  },
  {
   "cell_type": "code",
   "execution_count": 130,
   "metadata": {},
   "outputs": [
    {
     "data": {
      "text/plain": [
       "68202"
      ]
     },
     "execution_count": 130,
     "metadata": {},
     "output_type": "execute_result"
    }
   ],
   "source": [
    "len(filenames)"
   ]
  },
  {
   "cell_type": "markdown",
   "metadata": {},
   "source": [
    "## Write metadata to bigquery"
   ]
  },
  {
   "cell_type": "markdown",
   "metadata": {},
   "source": [
    "For cloud storage functions, storing metadata in a RDBS seems useful. BigQuery is a low hassle way to achieve this and can scale to lots of data with ease.  \n",
    "Downsides are rather inflexible migrations and updates.  \n"
   ]
  },
  {
   "cell_type": "code",
   "execution_count": 30,
   "metadata": {},
   "outputs": [],
   "source": [
    "# export\n",
    "def write_metadata_to_gcp(df, table_id, project_id, credentials=None, append=True):\n",
    "    if append:\n",
    "        if_exists = \"append\"\n",
    "    else:\n",
    "        if_exists = \"fail\"\n",
    "        \n",
    "    if credentials:\n",
    "        pandas_gbq.to_gbq(\n",
    "            df,\n",
    "            table_id,\n",
    "            project_id=project_id,\n",
    "            credentials=credentials,\n",
    "            if_exists=if_exists,\n",
    "        )\n",
    "    else:\n",
    "        pandas_gbq.to_gbq(\n",
    "            df,\n",
    "            table_id,\n",
    "            project_id=project_id,\n",
    "            if_exists=if_exists,\n",
    "        )\n",
    "        \n",
    "    print(\n",
    "        f\"{len(df)} rows written to BQ {table_id}, append={append}\"\n",
    "    )"
   ]
  },
  {
   "cell_type": "code",
   "execution_count": 29,
   "metadata": {},
   "outputs": [
    {
     "ename": "NotFoundException",
     "evalue": "Invalid Table Name. Should be of the form 'datasetId.tableId' ",
     "output_type": "error",
     "traceback": [
      "\u001b[0;31m---------------------------------------------------------------------------\u001b[0m",
      "\u001b[0;31mNotFoundException\u001b[0m                         Traceback (most recent call last)",
      "\u001b[0;32m<ipython-input-29-4f7fbf24d98f>\u001b[0m in \u001b[0;36m<module>\u001b[0;34m\u001b[0m\n\u001b[0;32m----> 1\u001b[0;31m \u001b[0mwrite_metadata_to_gcp\u001b[0m\u001b[0;34m(\u001b[0m\u001b[0mdf\u001b[0m\u001b[0;34m,\u001b[0m \u001b[0;34m'test'\u001b[0m\u001b[0;34m,\u001b[0m \u001b[0;34m'solar-pv-nowcasting'\u001b[0m\u001b[0;34m)\u001b[0m\u001b[0;34m\u001b[0m\u001b[0;34m\u001b[0m\u001b[0m\n\u001b[0m",
      "\u001b[0;32m<ipython-input-28-9e358fc4b48b>\u001b[0m in \u001b[0;36mwrite_metadata_to_gcp\u001b[0;34m(df, table_id, project_id, credentials, append)\u001b[0m\n\u001b[1;32m     13\u001b[0m         )\n\u001b[1;32m     14\u001b[0m     \u001b[0;32melse\u001b[0m\u001b[0;34m:\u001b[0m\u001b[0;34m\u001b[0m\u001b[0;34m\u001b[0m\u001b[0m\n\u001b[0;32m---> 15\u001b[0;31m         pandas_gbq.to_gbq(\n\u001b[0m\u001b[1;32m     16\u001b[0m             \u001b[0mdf\u001b[0m\u001b[0;34m,\u001b[0m\u001b[0;34m\u001b[0m\u001b[0;34m\u001b[0m\u001b[0m\n\u001b[1;32m     17\u001b[0m             \u001b[0mtable_id\u001b[0m\u001b[0;34m,\u001b[0m\u001b[0;34m\u001b[0m\u001b[0;34m\u001b[0m\u001b[0m\n",
      "\u001b[0;32m~/software/anaconda3/envs/satip_dev/lib/python3.8/site-packages/pandas_gbq/gbq.py\u001b[0m in \u001b[0;36mto_gbq\u001b[0;34m(dataframe, destination_table, project_id, chunksize, reauth, if_exists, auth_local_webserver, table_schema, location, progress_bar, credentials, verbose, private_key)\u001b[0m\n\u001b[1;32m   1133\u001b[0m \u001b[0;34m\u001b[0m\u001b[0m\n\u001b[1;32m   1134\u001b[0m     \u001b[0;32mif\u001b[0m \u001b[0;34m\".\"\u001b[0m \u001b[0;32mnot\u001b[0m \u001b[0;32min\u001b[0m \u001b[0mdestination_table\u001b[0m\u001b[0;34m:\u001b[0m\u001b[0;34m\u001b[0m\u001b[0;34m\u001b[0m\u001b[0m\n\u001b[0;32m-> 1135\u001b[0;31m         raise NotFoundException(\n\u001b[0m\u001b[1;32m   1136\u001b[0m             \u001b[0;34m\"Invalid Table Name. Should be of the form 'datasetId.tableId' \"\u001b[0m\u001b[0;34m\u001b[0m\u001b[0;34m\u001b[0m\u001b[0m\n\u001b[1;32m   1137\u001b[0m         )\n",
      "\u001b[0;31mNotFoundException\u001b[0m: Invalid Table Name. Should be of the form 'datasetId.tableId' "
     ]
    }
   ],
   "source": [
    "# write_metadata_to_gcp(df, 'test', 'solar-pv-nowcasting')"
   ]
  },
  {
   "cell_type": "code",
   "execution_count": null,
   "metadata": {},
   "outputs": [],
   "source": []
  },
  {
   "cell_type": "code",
   "execution_count": 8,
   "metadata": {},
   "outputs": [
    {
     "name": "stderr",
     "output_type": "stream",
     "text": [
      "Downloading: 100%|█████████████████████████████████████████████████████████████████████| 1/1 [00:00<00:00,  1.30rows/s]\n"
     ]
    },
    {
     "data": {
      "text/plain": [
       "'2020-12-03 19:14'"
      ]
     },
     "execution_count": 8,
     "metadata": {},
     "output_type": "execute_result"
    }
   ],
   "source": [
    "#export\n",
    "def query(sql_query, project_id):\n",
    "    \"\"\"Wrapper around BigQuery for a given Google project\n",
    "        \n",
    "        Returns:\n",
    "            pandas.DataFrame of the query results\n",
    "    \"\"\"\n",
    "    df = pandas_gbq.read_gbq(sql_query, project_id=project_id)\n",
    "    \n",
    "    return df\n",
    "\n",
    "sql_query = 'select * from eumetsat.metadata where result_time = (select max(result_time) from eumetsat.metadata)'\n",
    "project_id = 'solar-pv-nowcasting'\n",
    "\n",
    "query(sql_query, project_id)['result_time'].iloc[0].strftime('%Y-%m-%d %H:%M')"
   ]
  },
  {
   "cell_type": "code",
   "execution_count": null,
   "metadata": {},
   "outputs": [],
   "source": []
  },
  {
   "cell_type": "code",
   "execution_count": null,
   "metadata": {},
   "outputs": [],
   "source": []
  },
  {
   "cell_type": "code",
   "execution_count": 9,
   "metadata": {},
   "outputs": [
    {
     "name": "stdout",
     "output_type": "stream",
     "text": [
      "Converted 00_utils.ipynb.\n",
      "Converted 01_eumetsat.ipynb.\n",
      "Converted 02_reproj.ipynb.\n",
      "Converted 03_zarr.ipynb.\n",
      "Converted 04_gcp.ipynb.\n",
      "Converted 05_pipeline.ipynb.\n"
     ]
    }
   ],
   "source": [
    "#hide\n",
    "from nbdev.export import *\n",
    "notebook2script()"
   ]
  }
 ],
 "metadata": {
  "kernelspec": {
   "display_name": "Python 3",
   "language": "python",
   "name": "python3"
  },
  "language_info": {
   "codemirror_mode": {
    "name": "ipython",
    "version": 3
   },
   "file_extension": ".py",
   "mimetype": "text/x-python",
   "name": "python",
   "nbconvert_exporter": "python",
   "pygments_lexer": "ipython3",
   "version": "3.8.6"
  }
 },
 "nbformat": 4,
 "nbformat_minor": 4
}
