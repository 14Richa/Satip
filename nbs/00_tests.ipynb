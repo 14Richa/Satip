{
 "cells": [
  {
   "cell_type": "code",
   "execution_count": null,
   "id": "unexpected-freight",
   "metadata": {},
   "outputs": [],
   "source": [
    "# default_exp tests"
   ]
  },
  {
   "cell_type": "markdown",
   "id": "latter-tucson",
   "metadata": {},
   "source": [
    "# Tests\n",
    "\n",
    "Run with `pytest`:  \n",
    "```bash\n",
    "pytest satip/tests.py\n",
    "```"
   ]
  },
  {
   "cell_type": "markdown",
   "id": "unavailable-newsletter",
   "metadata": {},
   "source": [
    "## setup"
   ]
  },
  {
   "cell_type": "code",
   "execution_count": null,
   "id": "smart-editor",
   "metadata": {},
   "outputs": [],
   "source": [
    "import os\n",
    "import dotenv\n",
    "import json\n",
    "import pandas as pd\n",
    "from pandas.util.testing import assert_frame_equal\n",
    "\n",
    "from satip import eumetsat, io, mario, reproj, usage, utils, gcp_helpers, cicd, backfill"
   ]
  },
  {
   "cell_type": "markdown",
   "id": "saved-blocking",
   "metadata": {},
   "source": [
    "Need to set data directories (maybe this should be in a config file)"
   ]
  },
  {
   "cell_type": "code",
   "execution_count": null,
   "id": "mental-atlas",
   "metadata": {},
   "outputs": [],
   "source": [
    "data_dir = '../data/raw'\n",
    "compressed_dir = '../data/compressed'\n",
    "debug_fp = '../logs/EUMETSAT_download.txt'\n",
    "env_vars_fp = '../.env'\n",
    "metadata_db_fp = '../data/EUMETSAT_metadata.db'"
   ]
  },
  {
   "cell_type": "markdown",
   "id": "wanted-arkansas",
   "metadata": {},
   "source": [
    "Need to load environment variables, as a lot of functionality won't work without some credentials"
   ]
  },
  {
   "cell_type": "code",
   "execution_count": null,
   "id": "disciplinary-disaster",
   "metadata": {},
   "outputs": [],
   "source": [
    "dotenv.load_dotenv(env_vars_fp)\n",
    "\n",
    "user_key = os.environ.get('USER_KEY')\n",
    "user_secret = os.environ.get('USER_SECRET')\n",
    "slack_id = os.environ.get('SLACK_ID')\n",
    "slack_webhook_url = os.environ.get('SLACK_WEBHOOK_URL')"
   ]
  },
  {
   "cell_type": "markdown",
   "id": "extraordinary-destruction",
   "metadata": {},
   "source": [
    "## 01_eumetsat"
   ]
  },
  {
   "cell_type": "code",
   "execution_count": null,
   "id": "ceramic-spotlight",
   "metadata": {},
   "outputs": [],
   "source": [
    "def test_query_data_products():\n",
    "    \"\"\"Checks EUMETSAT API \n",
    "    \n",
    "    Looks for a data product from a search query, but does not check details.\n",
    "    Expects to find one value in the time range.\n",
    "    \"\"\"\n",
    "    start_date = '2019-10-01T00:00:00'\n",
    "    end_date = '2019-10-01T00:05:00'\n",
    "\n",
    "    actual = eumetsat.query_data_products(start_date, end_date).json()\n",
    "    a_id = actual['type']\n",
    "    a_results = actual['properties']['totalResults']\n",
    "    assert a_id == 'FeatureCollection'\n",
    "    assert a_results == 1"
   ]
  },
  {
   "cell_type": "code",
   "execution_count": null,
   "id": "loose-glasgow",
   "metadata": {},
   "outputs": [],
   "source": [
    "def test_identify_available_datasets():\n",
    "    \"\"\"Checks count of available datasets for a timeframe is consistent\"\"\"\n",
    "    start_date = '2020-01-01'\n",
    "    end_date = '2020-02-01'\n",
    "    actual = len(eumetsat.identify_available_datasets(start_date, end_date))\n",
    "    expected = 1548\n",
    "    assert actual == expected"
   ]
  },
  {
   "cell_type": "code",
   "execution_count": null,
   "id": "multiple-midnight",
   "metadata": {},
   "outputs": [],
   "source": [
    "def test_DownloadManager_download(user_key, user_secret, data_dir, metadata_db_fp, debug_fp):\n",
    "    \"\"\"Downloads 1 file from the EUMETSAT API and compares with saved data. \n",
    "    \n",
    "    Drops the 'downloaded' column which varies based on time of last download.\n",
    "    \"\"\"\n",
    "    dm = eumetsat.DownloadManager(user_key, user_secret, data_dir, metadata_db_fp, debug_fp)\n",
    "    start_date = '2020-10-01 12:00'\n",
    "    end_date = '2020-10-01 12:05'\n",
    "    \n",
    "    actual = dm.download_date_range(start_date, end_date).drop('downloaded', axis=1)\n",
    "    expected = pd.DataFrame(data=[[pd.Timestamp('2020-10-01 12:00:09.607000+0000', tz='UTC'), pd.Timestamp('2020-10-01 12:04:15.953000+0000', tz='UTC'), pd.Timestamp('2020-10-01 12:04:15.953000+0000', tz='UTC'), 'MSG3', 'GEO', 'SEVIRI', 'RSS', 'EPSG:4326', '0 9.5', 'MSG3-SEVI-MSG15-0100-NA-20201001120415.953000000Z-NA', 99819, 0.0]], \n",
    "                            columns=['start_date', 'end_date', 'result_time', 'platform_short_name','platform_orbit_type', 'instrument_name', 'sensor_op_mode', 'center_srs_name', 'center_position', 'file_name', 'file_size', 'missing_pct'])\n",
    "    \n",
    "    assert_frame_equal(actual, expected)"
   ]
  },
  {
   "cell_type": "markdown",
   "id": "cheap-financing",
   "metadata": {},
   "source": [
    "### Export"
   ]
  },
  {
   "cell_type": "code",
   "execution_count": null,
   "id": "unlimited-stage",
   "metadata": {},
   "outputs": [
    {
     "name": "stdout",
     "output_type": "stream",
     "text": [
      "Converted 00_tests.ipynb.\n"
     ]
    }
   ],
   "source": [
    "#hide\n",
    "from nbdev.export import *\n",
    "notebook2script('00_tests.ipynb')"
   ]
  }
 ],
 "metadata": {
  "kernelspec": {
   "display_name": "Python 3",
   "language": "python",
   "name": "python3"
  }
 },
 "nbformat": 4,
 "nbformat_minor": 5
}
